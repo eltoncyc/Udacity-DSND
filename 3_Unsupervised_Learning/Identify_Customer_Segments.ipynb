{
 "cells": [
  {
   "cell_type": "markdown",
   "metadata": {},
   "source": [
    "# Project: Identify Customer Segments\n",
    "\n",
    "In this project, you will apply unsupervised learning techniques to identify segments of the population that form the core customer base for a mail-order sales company in Germany. These segments can then be used to direct marketing campaigns towards audiences that will have the highest expected rate of returns. The data that you will use has been provided by our partners at Bertelsmann Arvato Analytics, and represents a real-life data science task.\n",
    "\n",
    "This notebook will help you complete this task by providing a framework within which you will perform your analysis steps. In each step of the project, you will see some text describing the subtask that you will perform, followed by one or more code cells for you to complete your work. **Feel free to add additional code and markdown cells as you go along so that you can explore everything in precise chunks.** The code cells provided in the base template will outline only the major tasks, and will usually not be enough to cover all of the minor tasks that comprise it.\n",
    "\n",
    "It should be noted that while there will be precise guidelines on how you should handle certain tasks in the project, there will also be places where an exact specification is not provided. **There will be times in the project where you will need to make and justify your own decisions on how to treat the data.** These are places where there may not be only one way to handle the data. In real-life tasks, there may be many valid ways to approach an analysis task. One of the most important things you can do is clearly document your approach so that other scientists can understand the decisions you've made.\n",
    "\n",
    "At the end of most sections, there will be a Markdown cell labeled **Discussion**. In these cells, you will report your findings for the completed section, as well as document the decisions that you made in your approach to each subtask. **Your project will be evaluated not just on the code used to complete the tasks outlined, but also your communication about your observations and conclusions at each stage.**"
   ]
  },
  {
   "cell_type": "code",
   "execution_count": 1,
   "metadata": {},
   "outputs": [],
   "source": [
    "# import libraries here; add more as necessary\n",
    "import numpy as np\n",
    "import pandas as pd\n",
    "import matplotlib.pyplot as plt\n",
    "import seaborn as sns\n",
    "\n",
    "# magic word for producing visualizations in notebook\n",
    "%matplotlib inline"
   ]
  },
  {
   "cell_type": "markdown",
   "metadata": {},
   "source": [
    "### Step 0: Load the Data\n",
    "\n",
    "There are four files associated with this project (not including this one):\n",
    "\n",
    "- `Udacity_AZDIAS_Subset.csv`: Demographics data for the general population of Germany; 891211 persons (rows) x 85 features (columns).\n",
    "- `Udacity_CUSTOMERS_Subset.csv`: Demographics data for customers of a mail-order company; 191652 persons (rows) x 85 features (columns).\n",
    "- `Data_Dictionary.md`: Detailed information file about the features in the provided datasets.\n",
    "- `AZDIAS_Feature_Summary.csv`: Summary of feature attributes for demographics data; 85 features (rows) x 4 columns\n",
    "\n",
    "Each row of the demographics files represents a single person, but also includes information outside of individuals, including information about their household, building, and neighborhood. You will use this information to cluster the general population into groups with similar demographic properties. Then, you will see how the people in the customers dataset fit into those created clusters. The hope here is that certain clusters are over-represented in the customers data, as compared to the general population; those over-represented clusters will be assumed to be part of the core userbase. This information can then be used for further applications, such as targeting for a marketing campaign.\n",
    "\n",
    "To start off with, load in the demographics data for the general population into a pandas DataFrame, and do the same for the feature attributes summary. Note for all of the `.csv` data files in this project: they're semicolon (`;`) delimited, so you'll need an additional argument in your [`read_csv()`](https://pandas.pydata.org/pandas-docs/stable/generated/pandas.read_csv.html) call to read in the data properly. Also, considering the size of the main dataset, it may take some time for it to load completely.\n",
    "\n",
    "Once the dataset is loaded, it's recommended that you take a little bit of time just browsing the general structure of the dataset and feature summary file. You'll be getting deep into the innards of the cleaning in the first major step of the project, so gaining some general familiarity can help you get your bearings."
   ]
  },
  {
   "cell_type": "code",
   "execution_count": 2,
   "metadata": {},
   "outputs": [],
   "source": [
    "# Load in the general demographics data.\n",
    "azdias = pd.read_csv('Udacity_AZDIAS_Subset.csv', sep = ';')\n",
    "\n",
    "# Load in the feature summary file.\n",
    "feat_info = pd.read_csv('AZDIAS_Feature_Summary.csv', sep = ';')"
   ]
  },
  {
   "cell_type": "code",
   "execution_count": 3,
   "metadata": {},
   "outputs": [
    {
     "data": {
      "text/html": [
       "<div>\n",
       "<style scoped>\n",
       "    .dataframe tbody tr th:only-of-type {\n",
       "        vertical-align: middle;\n",
       "    }\n",
       "\n",
       "    .dataframe tbody tr th {\n",
       "        vertical-align: top;\n",
       "    }\n",
       "\n",
       "    .dataframe thead th {\n",
       "        text-align: right;\n",
       "    }\n",
       "</style>\n",
       "<table border=\"1\" class=\"dataframe\">\n",
       "  <thead>\n",
       "    <tr style=\"text-align: right;\">\n",
       "      <th></th>\n",
       "      <th>AGER_TYP</th>\n",
       "      <th>ALTERSKATEGORIE_GROB</th>\n",
       "      <th>ANREDE_KZ</th>\n",
       "      <th>CJT_GESAMTTYP</th>\n",
       "      <th>FINANZ_MINIMALIST</th>\n",
       "      <th>FINANZ_SPARER</th>\n",
       "      <th>FINANZ_VORSORGER</th>\n",
       "      <th>FINANZ_ANLEGER</th>\n",
       "      <th>FINANZ_UNAUFFAELLIGER</th>\n",
       "      <th>FINANZ_HAUSBAUER</th>\n",
       "      <th>...</th>\n",
       "      <th>PLZ8_ANTG1</th>\n",
       "      <th>PLZ8_ANTG2</th>\n",
       "      <th>PLZ8_ANTG3</th>\n",
       "      <th>PLZ8_ANTG4</th>\n",
       "      <th>PLZ8_BAUMAX</th>\n",
       "      <th>PLZ8_HHZ</th>\n",
       "      <th>PLZ8_GBZ</th>\n",
       "      <th>ARBEIT</th>\n",
       "      <th>ORTSGR_KLS9</th>\n",
       "      <th>RELAT_AB</th>\n",
       "    </tr>\n",
       "  </thead>\n",
       "  <tbody>\n",
       "    <tr>\n",
       "      <th>0</th>\n",
       "      <td>-1</td>\n",
       "      <td>2</td>\n",
       "      <td>1</td>\n",
       "      <td>2.0</td>\n",
       "      <td>3</td>\n",
       "      <td>4</td>\n",
       "      <td>3</td>\n",
       "      <td>5</td>\n",
       "      <td>5</td>\n",
       "      <td>3</td>\n",
       "      <td>...</td>\n",
       "      <td>NaN</td>\n",
       "      <td>NaN</td>\n",
       "      <td>NaN</td>\n",
       "      <td>NaN</td>\n",
       "      <td>NaN</td>\n",
       "      <td>NaN</td>\n",
       "      <td>NaN</td>\n",
       "      <td>NaN</td>\n",
       "      <td>NaN</td>\n",
       "      <td>NaN</td>\n",
       "    </tr>\n",
       "    <tr>\n",
       "      <th>1</th>\n",
       "      <td>-1</td>\n",
       "      <td>1</td>\n",
       "      <td>2</td>\n",
       "      <td>5.0</td>\n",
       "      <td>1</td>\n",
       "      <td>5</td>\n",
       "      <td>2</td>\n",
       "      <td>5</td>\n",
       "      <td>4</td>\n",
       "      <td>5</td>\n",
       "      <td>...</td>\n",
       "      <td>2.0</td>\n",
       "      <td>3.0</td>\n",
       "      <td>2.0</td>\n",
       "      <td>1.0</td>\n",
       "      <td>1.0</td>\n",
       "      <td>5.0</td>\n",
       "      <td>4.0</td>\n",
       "      <td>3.0</td>\n",
       "      <td>5.0</td>\n",
       "      <td>4.0</td>\n",
       "    </tr>\n",
       "    <tr>\n",
       "      <th>2</th>\n",
       "      <td>-1</td>\n",
       "      <td>3</td>\n",
       "      <td>2</td>\n",
       "      <td>3.0</td>\n",
       "      <td>1</td>\n",
       "      <td>4</td>\n",
       "      <td>1</td>\n",
       "      <td>2</td>\n",
       "      <td>3</td>\n",
       "      <td>5</td>\n",
       "      <td>...</td>\n",
       "      <td>3.0</td>\n",
       "      <td>3.0</td>\n",
       "      <td>1.0</td>\n",
       "      <td>0.0</td>\n",
       "      <td>1.0</td>\n",
       "      <td>4.0</td>\n",
       "      <td>4.0</td>\n",
       "      <td>3.0</td>\n",
       "      <td>5.0</td>\n",
       "      <td>2.0</td>\n",
       "    </tr>\n",
       "    <tr>\n",
       "      <th>3</th>\n",
       "      <td>2</td>\n",
       "      <td>4</td>\n",
       "      <td>2</td>\n",
       "      <td>2.0</td>\n",
       "      <td>4</td>\n",
       "      <td>2</td>\n",
       "      <td>5</td>\n",
       "      <td>2</td>\n",
       "      <td>1</td>\n",
       "      <td>2</td>\n",
       "      <td>...</td>\n",
       "      <td>2.0</td>\n",
       "      <td>2.0</td>\n",
       "      <td>2.0</td>\n",
       "      <td>0.0</td>\n",
       "      <td>1.0</td>\n",
       "      <td>3.0</td>\n",
       "      <td>4.0</td>\n",
       "      <td>2.0</td>\n",
       "      <td>3.0</td>\n",
       "      <td>3.0</td>\n",
       "    </tr>\n",
       "    <tr>\n",
       "      <th>4</th>\n",
       "      <td>-1</td>\n",
       "      <td>3</td>\n",
       "      <td>1</td>\n",
       "      <td>5.0</td>\n",
       "      <td>4</td>\n",
       "      <td>3</td>\n",
       "      <td>4</td>\n",
       "      <td>1</td>\n",
       "      <td>3</td>\n",
       "      <td>2</td>\n",
       "      <td>...</td>\n",
       "      <td>2.0</td>\n",
       "      <td>4.0</td>\n",
       "      <td>2.0</td>\n",
       "      <td>1.0</td>\n",
       "      <td>2.0</td>\n",
       "      <td>3.0</td>\n",
       "      <td>3.0</td>\n",
       "      <td>4.0</td>\n",
       "      <td>6.0</td>\n",
       "      <td>5.0</td>\n",
       "    </tr>\n",
       "  </tbody>\n",
       "</table>\n",
       "<p>5 rows × 85 columns</p>\n",
       "</div>"
      ],
      "text/plain": [
       "   AGER_TYP  ALTERSKATEGORIE_GROB  ANREDE_KZ  CJT_GESAMTTYP  \\\n",
       "0        -1                     2          1            2.0   \n",
       "1        -1                     1          2            5.0   \n",
       "2        -1                     3          2            3.0   \n",
       "3         2                     4          2            2.0   \n",
       "4        -1                     3          1            5.0   \n",
       "\n",
       "   FINANZ_MINIMALIST  FINANZ_SPARER  FINANZ_VORSORGER  FINANZ_ANLEGER  \\\n",
       "0                  3              4                 3               5   \n",
       "1                  1              5                 2               5   \n",
       "2                  1              4                 1               2   \n",
       "3                  4              2                 5               2   \n",
       "4                  4              3                 4               1   \n",
       "\n",
       "   FINANZ_UNAUFFAELLIGER  FINANZ_HAUSBAUER    ...     PLZ8_ANTG1  PLZ8_ANTG2  \\\n",
       "0                      5                 3    ...            NaN         NaN   \n",
       "1                      4                 5    ...            2.0         3.0   \n",
       "2                      3                 5    ...            3.0         3.0   \n",
       "3                      1                 2    ...            2.0         2.0   \n",
       "4                      3                 2    ...            2.0         4.0   \n",
       "\n",
       "   PLZ8_ANTG3  PLZ8_ANTG4  PLZ8_BAUMAX  PLZ8_HHZ  PLZ8_GBZ  ARBEIT  \\\n",
       "0         NaN         NaN          NaN       NaN       NaN     NaN   \n",
       "1         2.0         1.0          1.0       5.0       4.0     3.0   \n",
       "2         1.0         0.0          1.0       4.0       4.0     3.0   \n",
       "3         2.0         0.0          1.0       3.0       4.0     2.0   \n",
       "4         2.0         1.0          2.0       3.0       3.0     4.0   \n",
       "\n",
       "   ORTSGR_KLS9  RELAT_AB  \n",
       "0          NaN       NaN  \n",
       "1          5.0       4.0  \n",
       "2          5.0       2.0  \n",
       "3          3.0       3.0  \n",
       "4          6.0       5.0  \n",
       "\n",
       "[5 rows x 85 columns]"
      ]
     },
     "execution_count": 3,
     "metadata": {},
     "output_type": "execute_result"
    }
   ],
   "source": [
    "# Check the structure of the data after it's loaded (e.g. print the number of\n",
    "# rows and columns, print the first few rows).\n",
    "\n",
    "azdias.head()"
   ]
  },
  {
   "cell_type": "code",
   "execution_count": 4,
   "metadata": {},
   "outputs": [
    {
     "data": {
      "text/plain": [
       "(891221, 85)"
      ]
     },
     "execution_count": 4,
     "metadata": {},
     "output_type": "execute_result"
    }
   ],
   "source": [
    "azdias.shape"
   ]
  },
  {
   "cell_type": "code",
   "execution_count": 5,
   "metadata": {},
   "outputs": [
    {
     "data": {
      "text/html": [
       "<div>\n",
       "<style scoped>\n",
       "    .dataframe tbody tr th:only-of-type {\n",
       "        vertical-align: middle;\n",
       "    }\n",
       "\n",
       "    .dataframe tbody tr th {\n",
       "        vertical-align: top;\n",
       "    }\n",
       "\n",
       "    .dataframe thead th {\n",
       "        text-align: right;\n",
       "    }\n",
       "</style>\n",
       "<table border=\"1\" class=\"dataframe\">\n",
       "  <thead>\n",
       "    <tr style=\"text-align: right;\">\n",
       "      <th></th>\n",
       "      <th>AGER_TYP</th>\n",
       "      <th>ALTERSKATEGORIE_GROB</th>\n",
       "      <th>ANREDE_KZ</th>\n",
       "      <th>CJT_GESAMTTYP</th>\n",
       "      <th>FINANZ_MINIMALIST</th>\n",
       "      <th>FINANZ_SPARER</th>\n",
       "      <th>FINANZ_VORSORGER</th>\n",
       "      <th>FINANZ_ANLEGER</th>\n",
       "      <th>FINANZ_UNAUFFAELLIGER</th>\n",
       "      <th>FINANZ_HAUSBAUER</th>\n",
       "      <th>...</th>\n",
       "      <th>PLZ8_ANTG1</th>\n",
       "      <th>PLZ8_ANTG2</th>\n",
       "      <th>PLZ8_ANTG3</th>\n",
       "      <th>PLZ8_ANTG4</th>\n",
       "      <th>PLZ8_BAUMAX</th>\n",
       "      <th>PLZ8_HHZ</th>\n",
       "      <th>PLZ8_GBZ</th>\n",
       "      <th>ARBEIT</th>\n",
       "      <th>ORTSGR_KLS9</th>\n",
       "      <th>RELAT_AB</th>\n",
       "    </tr>\n",
       "  </thead>\n",
       "  <tbody>\n",
       "    <tr>\n",
       "      <th>count</th>\n",
       "      <td>891221.000000</td>\n",
       "      <td>891221.000000</td>\n",
       "      <td>891221.000000</td>\n",
       "      <td>886367.000000</td>\n",
       "      <td>891221.000000</td>\n",
       "      <td>891221.000000</td>\n",
       "      <td>891221.000000</td>\n",
       "      <td>891221.000000</td>\n",
       "      <td>891221.000000</td>\n",
       "      <td>891221.000000</td>\n",
       "      <td>...</td>\n",
       "      <td>774706.000000</td>\n",
       "      <td>774706.000000</td>\n",
       "      <td>774706.000000</td>\n",
       "      <td>774706.000000</td>\n",
       "      <td>774706.000000</td>\n",
       "      <td>774706.000000</td>\n",
       "      <td>774706.000000</td>\n",
       "      <td>794005.000000</td>\n",
       "      <td>794005.000000</td>\n",
       "      <td>794005.00000</td>\n",
       "    </tr>\n",
       "    <tr>\n",
       "      <th>mean</th>\n",
       "      <td>-0.358435</td>\n",
       "      <td>2.777398</td>\n",
       "      <td>1.522098</td>\n",
       "      <td>3.632838</td>\n",
       "      <td>3.074528</td>\n",
       "      <td>2.821039</td>\n",
       "      <td>3.401106</td>\n",
       "      <td>3.033328</td>\n",
       "      <td>2.874167</td>\n",
       "      <td>3.075121</td>\n",
       "      <td>...</td>\n",
       "      <td>2.253330</td>\n",
       "      <td>2.801858</td>\n",
       "      <td>1.595426</td>\n",
       "      <td>0.699166</td>\n",
       "      <td>1.943913</td>\n",
       "      <td>3.612821</td>\n",
       "      <td>3.381087</td>\n",
       "      <td>3.167854</td>\n",
       "      <td>5.293002</td>\n",
       "      <td>3.07222</td>\n",
       "    </tr>\n",
       "    <tr>\n",
       "      <th>std</th>\n",
       "      <td>1.198724</td>\n",
       "      <td>1.068775</td>\n",
       "      <td>0.499512</td>\n",
       "      <td>1.595021</td>\n",
       "      <td>1.321055</td>\n",
       "      <td>1.464749</td>\n",
       "      <td>1.322134</td>\n",
       "      <td>1.529603</td>\n",
       "      <td>1.486731</td>\n",
       "      <td>1.353248</td>\n",
       "      <td>...</td>\n",
       "      <td>0.972008</td>\n",
       "      <td>0.920309</td>\n",
       "      <td>0.986736</td>\n",
       "      <td>0.727137</td>\n",
       "      <td>1.459654</td>\n",
       "      <td>0.973967</td>\n",
       "      <td>1.111598</td>\n",
       "      <td>1.002376</td>\n",
       "      <td>2.303739</td>\n",
       "      <td>1.36298</td>\n",
       "    </tr>\n",
       "    <tr>\n",
       "      <th>min</th>\n",
       "      <td>-1.000000</td>\n",
       "      <td>1.000000</td>\n",
       "      <td>1.000000</td>\n",
       "      <td>1.000000</td>\n",
       "      <td>1.000000</td>\n",
       "      <td>1.000000</td>\n",
       "      <td>1.000000</td>\n",
       "      <td>1.000000</td>\n",
       "      <td>1.000000</td>\n",
       "      <td>1.000000</td>\n",
       "      <td>...</td>\n",
       "      <td>0.000000</td>\n",
       "      <td>0.000000</td>\n",
       "      <td>0.000000</td>\n",
       "      <td>0.000000</td>\n",
       "      <td>1.000000</td>\n",
       "      <td>1.000000</td>\n",
       "      <td>1.000000</td>\n",
       "      <td>1.000000</td>\n",
       "      <td>0.000000</td>\n",
       "      <td>1.00000</td>\n",
       "    </tr>\n",
       "    <tr>\n",
       "      <th>25%</th>\n",
       "      <td>-1.000000</td>\n",
       "      <td>2.000000</td>\n",
       "      <td>1.000000</td>\n",
       "      <td>2.000000</td>\n",
       "      <td>2.000000</td>\n",
       "      <td>1.000000</td>\n",
       "      <td>3.000000</td>\n",
       "      <td>2.000000</td>\n",
       "      <td>2.000000</td>\n",
       "      <td>2.000000</td>\n",
       "      <td>...</td>\n",
       "      <td>1.000000</td>\n",
       "      <td>2.000000</td>\n",
       "      <td>1.000000</td>\n",
       "      <td>0.000000</td>\n",
       "      <td>1.000000</td>\n",
       "      <td>3.000000</td>\n",
       "      <td>3.000000</td>\n",
       "      <td>3.000000</td>\n",
       "      <td>4.000000</td>\n",
       "      <td>2.00000</td>\n",
       "    </tr>\n",
       "    <tr>\n",
       "      <th>50%</th>\n",
       "      <td>-1.000000</td>\n",
       "      <td>3.000000</td>\n",
       "      <td>2.000000</td>\n",
       "      <td>4.000000</td>\n",
       "      <td>3.000000</td>\n",
       "      <td>3.000000</td>\n",
       "      <td>3.000000</td>\n",
       "      <td>3.000000</td>\n",
       "      <td>3.000000</td>\n",
       "      <td>3.000000</td>\n",
       "      <td>...</td>\n",
       "      <td>2.000000</td>\n",
       "      <td>3.000000</td>\n",
       "      <td>2.000000</td>\n",
       "      <td>1.000000</td>\n",
       "      <td>1.000000</td>\n",
       "      <td>4.000000</td>\n",
       "      <td>3.000000</td>\n",
       "      <td>3.000000</td>\n",
       "      <td>5.000000</td>\n",
       "      <td>3.00000</td>\n",
       "    </tr>\n",
       "    <tr>\n",
       "      <th>75%</th>\n",
       "      <td>-1.000000</td>\n",
       "      <td>4.000000</td>\n",
       "      <td>2.000000</td>\n",
       "      <td>5.000000</td>\n",
       "      <td>4.000000</td>\n",
       "      <td>4.000000</td>\n",
       "      <td>5.000000</td>\n",
       "      <td>5.000000</td>\n",
       "      <td>4.000000</td>\n",
       "      <td>4.000000</td>\n",
       "      <td>...</td>\n",
       "      <td>3.000000</td>\n",
       "      <td>3.000000</td>\n",
       "      <td>2.000000</td>\n",
       "      <td>1.000000</td>\n",
       "      <td>3.000000</td>\n",
       "      <td>4.000000</td>\n",
       "      <td>4.000000</td>\n",
       "      <td>4.000000</td>\n",
       "      <td>7.000000</td>\n",
       "      <td>4.00000</td>\n",
       "    </tr>\n",
       "    <tr>\n",
       "      <th>max</th>\n",
       "      <td>3.000000</td>\n",
       "      <td>9.000000</td>\n",
       "      <td>2.000000</td>\n",
       "      <td>6.000000</td>\n",
       "      <td>5.000000</td>\n",
       "      <td>5.000000</td>\n",
       "      <td>5.000000</td>\n",
       "      <td>5.000000</td>\n",
       "      <td>5.000000</td>\n",
       "      <td>5.000000</td>\n",
       "      <td>...</td>\n",
       "      <td>4.000000</td>\n",
       "      <td>4.000000</td>\n",
       "      <td>3.000000</td>\n",
       "      <td>2.000000</td>\n",
       "      <td>5.000000</td>\n",
       "      <td>5.000000</td>\n",
       "      <td>5.000000</td>\n",
       "      <td>9.000000</td>\n",
       "      <td>9.000000</td>\n",
       "      <td>9.00000</td>\n",
       "    </tr>\n",
       "  </tbody>\n",
       "</table>\n",
       "<p>8 rows × 81 columns</p>\n",
       "</div>"
      ],
      "text/plain": [
       "            AGER_TYP  ALTERSKATEGORIE_GROB      ANREDE_KZ  CJT_GESAMTTYP  \\\n",
       "count  891221.000000         891221.000000  891221.000000  886367.000000   \n",
       "mean       -0.358435              2.777398       1.522098       3.632838   \n",
       "std         1.198724              1.068775       0.499512       1.595021   \n",
       "min        -1.000000              1.000000       1.000000       1.000000   \n",
       "25%        -1.000000              2.000000       1.000000       2.000000   \n",
       "50%        -1.000000              3.000000       2.000000       4.000000   \n",
       "75%        -1.000000              4.000000       2.000000       5.000000   \n",
       "max         3.000000              9.000000       2.000000       6.000000   \n",
       "\n",
       "       FINANZ_MINIMALIST  FINANZ_SPARER  FINANZ_VORSORGER  FINANZ_ANLEGER  \\\n",
       "count      891221.000000  891221.000000     891221.000000   891221.000000   \n",
       "mean            3.074528       2.821039          3.401106        3.033328   \n",
       "std             1.321055       1.464749          1.322134        1.529603   \n",
       "min             1.000000       1.000000          1.000000        1.000000   \n",
       "25%             2.000000       1.000000          3.000000        2.000000   \n",
       "50%             3.000000       3.000000          3.000000        3.000000   \n",
       "75%             4.000000       4.000000          5.000000        5.000000   \n",
       "max             5.000000       5.000000          5.000000        5.000000   \n",
       "\n",
       "       FINANZ_UNAUFFAELLIGER  FINANZ_HAUSBAUER      ...          PLZ8_ANTG1  \\\n",
       "count          891221.000000     891221.000000      ...       774706.000000   \n",
       "mean                2.874167          3.075121      ...            2.253330   \n",
       "std                 1.486731          1.353248      ...            0.972008   \n",
       "min                 1.000000          1.000000      ...            0.000000   \n",
       "25%                 2.000000          2.000000      ...            1.000000   \n",
       "50%                 3.000000          3.000000      ...            2.000000   \n",
       "75%                 4.000000          4.000000      ...            3.000000   \n",
       "max                 5.000000          5.000000      ...            4.000000   \n",
       "\n",
       "          PLZ8_ANTG2     PLZ8_ANTG3     PLZ8_ANTG4    PLZ8_BAUMAX  \\\n",
       "count  774706.000000  774706.000000  774706.000000  774706.000000   \n",
       "mean        2.801858       1.595426       0.699166       1.943913   \n",
       "std         0.920309       0.986736       0.727137       1.459654   \n",
       "min         0.000000       0.000000       0.000000       1.000000   \n",
       "25%         2.000000       1.000000       0.000000       1.000000   \n",
       "50%         3.000000       2.000000       1.000000       1.000000   \n",
       "75%         3.000000       2.000000       1.000000       3.000000   \n",
       "max         4.000000       3.000000       2.000000       5.000000   \n",
       "\n",
       "            PLZ8_HHZ       PLZ8_GBZ         ARBEIT    ORTSGR_KLS9  \\\n",
       "count  774706.000000  774706.000000  794005.000000  794005.000000   \n",
       "mean        3.612821       3.381087       3.167854       5.293002   \n",
       "std         0.973967       1.111598       1.002376       2.303739   \n",
       "min         1.000000       1.000000       1.000000       0.000000   \n",
       "25%         3.000000       3.000000       3.000000       4.000000   \n",
       "50%         4.000000       3.000000       3.000000       5.000000   \n",
       "75%         4.000000       4.000000       4.000000       7.000000   \n",
       "max         5.000000       5.000000       9.000000       9.000000   \n",
       "\n",
       "           RELAT_AB  \n",
       "count  794005.00000  \n",
       "mean        3.07222  \n",
       "std         1.36298  \n",
       "min         1.00000  \n",
       "25%         2.00000  \n",
       "50%         3.00000  \n",
       "75%         4.00000  \n",
       "max         9.00000  \n",
       "\n",
       "[8 rows x 81 columns]"
      ]
     },
     "execution_count": 5,
     "metadata": {},
     "output_type": "execute_result"
    }
   ],
   "source": [
    "azdias.describe()"
   ]
  },
  {
   "cell_type": "code",
   "execution_count": 6,
   "metadata": {},
   "outputs": [
    {
     "data": {
      "text/html": [
       "<div>\n",
       "<style scoped>\n",
       "    .dataframe tbody tr th:only-of-type {\n",
       "        vertical-align: middle;\n",
       "    }\n",
       "\n",
       "    .dataframe tbody tr th {\n",
       "        vertical-align: top;\n",
       "    }\n",
       "\n",
       "    .dataframe thead th {\n",
       "        text-align: right;\n",
       "    }\n",
       "</style>\n",
       "<table border=\"1\" class=\"dataframe\">\n",
       "  <thead>\n",
       "    <tr style=\"text-align: right;\">\n",
       "      <th></th>\n",
       "      <th>attribute</th>\n",
       "      <th>information_level</th>\n",
       "      <th>type</th>\n",
       "      <th>missing_or_unknown</th>\n",
       "    </tr>\n",
       "  </thead>\n",
       "  <tbody>\n",
       "    <tr>\n",
       "      <th>0</th>\n",
       "      <td>AGER_TYP</td>\n",
       "      <td>person</td>\n",
       "      <td>categorical</td>\n",
       "      <td>[-1,0]</td>\n",
       "    </tr>\n",
       "    <tr>\n",
       "      <th>1</th>\n",
       "      <td>ALTERSKATEGORIE_GROB</td>\n",
       "      <td>person</td>\n",
       "      <td>ordinal</td>\n",
       "      <td>[-1,0,9]</td>\n",
       "    </tr>\n",
       "    <tr>\n",
       "      <th>2</th>\n",
       "      <td>ANREDE_KZ</td>\n",
       "      <td>person</td>\n",
       "      <td>categorical</td>\n",
       "      <td>[-1,0]</td>\n",
       "    </tr>\n",
       "    <tr>\n",
       "      <th>3</th>\n",
       "      <td>CJT_GESAMTTYP</td>\n",
       "      <td>person</td>\n",
       "      <td>categorical</td>\n",
       "      <td>[0]</td>\n",
       "    </tr>\n",
       "    <tr>\n",
       "      <th>4</th>\n",
       "      <td>FINANZ_MINIMALIST</td>\n",
       "      <td>person</td>\n",
       "      <td>ordinal</td>\n",
       "      <td>[-1]</td>\n",
       "    </tr>\n",
       "  </tbody>\n",
       "</table>\n",
       "</div>"
      ],
      "text/plain": [
       "              attribute information_level         type missing_or_unknown\n",
       "0              AGER_TYP            person  categorical             [-1,0]\n",
       "1  ALTERSKATEGORIE_GROB            person      ordinal           [-1,0,9]\n",
       "2             ANREDE_KZ            person  categorical             [-1,0]\n",
       "3         CJT_GESAMTTYP            person  categorical                [0]\n",
       "4     FINANZ_MINIMALIST            person      ordinal               [-1]"
      ]
     },
     "execution_count": 6,
     "metadata": {},
     "output_type": "execute_result"
    }
   ],
   "source": [
    "feat_info.head()"
   ]
  },
  {
   "cell_type": "code",
   "execution_count": 7,
   "metadata": {},
   "outputs": [
    {
     "data": {
      "text/plain": [
       "(85, 4)"
      ]
     },
     "execution_count": 7,
     "metadata": {},
     "output_type": "execute_result"
    }
   ],
   "source": [
    "feat_info.shape"
   ]
  },
  {
   "cell_type": "code",
   "execution_count": 8,
   "metadata": {},
   "outputs": [
    {
     "data": {
      "text/html": [
       "<div>\n",
       "<style scoped>\n",
       "    .dataframe tbody tr th:only-of-type {\n",
       "        vertical-align: middle;\n",
       "    }\n",
       "\n",
       "    .dataframe tbody tr th {\n",
       "        vertical-align: top;\n",
       "    }\n",
       "\n",
       "    .dataframe thead th {\n",
       "        text-align: right;\n",
       "    }\n",
       "</style>\n",
       "<table border=\"1\" class=\"dataframe\">\n",
       "  <thead>\n",
       "    <tr style=\"text-align: right;\">\n",
       "      <th></th>\n",
       "      <th>attribute</th>\n",
       "      <th>information_level</th>\n",
       "      <th>type</th>\n",
       "      <th>missing_or_unknown</th>\n",
       "    </tr>\n",
       "  </thead>\n",
       "  <tbody>\n",
       "    <tr>\n",
       "      <th>count</th>\n",
       "      <td>85</td>\n",
       "      <td>85</td>\n",
       "      <td>85</td>\n",
       "      <td>85</td>\n",
       "    </tr>\n",
       "    <tr>\n",
       "      <th>unique</th>\n",
       "      <td>85</td>\n",
       "      <td>9</td>\n",
       "      <td>5</td>\n",
       "      <td>9</td>\n",
       "    </tr>\n",
       "    <tr>\n",
       "      <th>top</th>\n",
       "      <td>GEBAEUDETYP</td>\n",
       "      <td>person</td>\n",
       "      <td>ordinal</td>\n",
       "      <td>[-1]</td>\n",
       "    </tr>\n",
       "    <tr>\n",
       "      <th>freq</th>\n",
       "      <td>1</td>\n",
       "      <td>43</td>\n",
       "      <td>49</td>\n",
       "      <td>26</td>\n",
       "    </tr>\n",
       "  </tbody>\n",
       "</table>\n",
       "</div>"
      ],
      "text/plain": [
       "          attribute information_level     type missing_or_unknown\n",
       "count            85                85       85                 85\n",
       "unique           85                 9        5                  9\n",
       "top     GEBAEUDETYP            person  ordinal               [-1]\n",
       "freq              1                43       49                 26"
      ]
     },
     "execution_count": 8,
     "metadata": {},
     "output_type": "execute_result"
    }
   ],
   "source": [
    "feat_info.describe()"
   ]
  },
  {
   "cell_type": "markdown",
   "metadata": {},
   "source": [
    "> **Tip**: Add additional cells to keep everything in reasonably-sized chunks! Keyboard shortcut `esc --> a` (press escape to enter command mode, then press the 'A' key) adds a new cell before the active cell, and `esc --> b` adds a new cell after the active cell. If you need to convert an active cell to a markdown cell, use `esc --> m` and to convert to a code cell, use `esc --> y`. \n",
    "\n",
    "## Step 1: Preprocessing\n",
    "\n",
    "### Step 1.1: Assess Missing Data\n",
    "\n",
    "The feature summary file contains a summary of properties for each demographics data column. You will use this file to help you make cleaning decisions during this stage of the project. First of all, you should assess the demographics data in terms of missing data. Pay attention to the following points as you perform your analysis, and take notes on what you observe. Make sure that you fill in the **Discussion** cell with your findings and decisions at the end of each step that has one!\n",
    "\n",
    "#### Step 1.1.1: Convert Missing Value Codes to NaNs\n",
    "The fourth column of the feature attributes summary (loaded in above as `feat_info`) documents the codes from the data dictionary that indicate missing or unknown data. While the file encodes this as a list (e.g. `[-1,0]`), this will get read in as a string object. You'll need to do a little bit of parsing to make use of it to identify and clean the data. Convert data that matches a 'missing' or 'unknown' value code into a numpy NaN value. You might want to see how much data takes on a 'missing' or 'unknown' code, and how much data is naturally missing, as a point of interest.\n",
    "\n",
    "**As one more reminder, you are encouraged to add additional cells to break up your analysis into manageable chunks.**"
   ]
  },
  {
   "cell_type": "code",
   "execution_count": 9,
   "metadata": {},
   "outputs": [],
   "source": [
    "# Identify missing or unknown data values and convert them to NaNs.\n",
    "import ast\n",
    "for idx, col in enumerate(azdias.columns):\n",
    "    str_n = feat_info['missing_or_unknown'].iloc[idx]\n",
    "    if idx in [57, 58, 59]:\n",
    "        list_n = str_n[1: -1].split(',')\n",
    "    else:\n",
    "        list_n = ast.literal_eval(str_n)\n",
    "    for num in list_n:\n",
    "        azdias[col].replace(num, np.NaN, inplace = True)"
   ]
  },
  {
   "cell_type": "markdown",
   "metadata": {},
   "source": [
    "#### Step 1.1.2: Assess Missing Data in Each Column\n",
    "\n",
    "How much missing data is present in each column? There are a few columns that are outliers in terms of the proportion of values that are missing. You will want to use matplotlib's [`hist()`](https://matplotlib.org/api/_as_gen/matplotlib.pyplot.hist.html) function to visualize the distribution of missing value counts to find these columns. Identify and document these columns. While some of these columns might have justifications for keeping or re-encoding the data, for this project you should just remove them from the dataframe. (Feel free to make remarks about these outlier columns in the discussion, however!)\n",
    "\n",
    "For the remaining features, are there any patterns in which columns have, or share, missing data?"
   ]
  },
  {
   "cell_type": "code",
   "execution_count": 10,
   "metadata": {},
   "outputs": [
    {
     "data": {
      "text/plain": [
       "AGER_TYP        76.955435\n",
       "GEBURTSJAHR     44.020282\n",
       "TITEL_KZ        99.757636\n",
       "ALTER_HH        34.813699\n",
       "KK_KUNDENTYP    65.596749\n",
       "KBA05_BAUMAX    53.468668\n",
       "dtype: float64"
      ]
     },
     "execution_count": 10,
     "metadata": {},
     "output_type": "execute_result"
    }
   ],
   "source": [
    "# Perform an assessment of how much missing data there is in each column of the\n",
    "# dataset.\n",
    "null_list = azdias.isnull().sum()\n",
    "null_per = null_list / len(azdias) * 100\n",
    "null_per[null_per > 20]"
   ]
  },
  {
   "cell_type": "code",
   "execution_count": 11,
   "metadata": {},
   "outputs": [
    {
     "data": {
      "image/png": "[encoded data removed]",
      "text/plain": [
       "<matplotlib.figure.Figure at 0x7f71b0a1be48>"
      ]
     },
     "metadata": {
      "needs_background": "light"
     },
     "output_type": "display_data"
    }
   ],
   "source": [
    "plt.figure(figsize=(15,5))\n",
    "plt.title('Distribution of Missing Data in Each Column (Below 20%)')\n",
    "plt.hist(null_per, bins = np.linspace(0,30,15))\n",
    "plt.xlabel('Percentage of Missing Data')\n",
    "plt.ylabel('Count')\n",
    "plt.show()"
   ]
  },
  {
   "cell_type": "code",
   "execution_count": 12,
   "metadata": {},
   "outputs": [
    {
     "data": {
      "image/png": "[encoded data removed]",
      "text/plain": [
       "<matplotlib.figure.Figure at 0x7f71ae756ba8>"
      ]
     },
     "metadata": {
      "needs_background": "light"
     },
     "output_type": "display_data"
    }
   ],
   "source": [
    "plt.figure(figsize=(15,5))\n",
    "plt.title('Distribution of Missing Data in Each Column')\n",
    "plt.hist(null_per, bins = np.linspace(10,100,19))\n",
    "plt.xlabel('Percentage of Missing Data')\n",
    "plt.ylabel('Count')\n",
    "plt.show()"
   ]
  },
  {
   "cell_type": "code",
   "execution_count": 13,
   "metadata": {},
   "outputs": [],
   "source": [
    "# Remove the outlier columns from the dataset. (You'll perform other data\n",
    "# engineering tasks such as re-encoding and imputation later.)\n",
    "\n",
    "cols_to_drop = ['TITEL_KZ', 'AGER_TYP', 'GEBURTSJAHR', 'ALTER_HH', 'KK_KUNDENTYP', 'KBA05_BAUMAX']\n",
    "\n",
    "azdias.drop(cols_to_drop, axis = 1, inplace = True)\n",
    "\n",
    "for drop_column in cols_to_drop:\n",
    "    drop_index = feat_info[feat_info['attribute'] == drop_column].index[0]\n",
    "    feat_info.drop(drop_index, axis = 0, inplace = True)\n",
    "\n"
   ]
  },
  {
   "cell_type": "code",
   "execution_count": 14,
   "metadata": {
    "scrolled": true
   },
   "outputs": [
    {
     "data": {
      "text/plain": [
       "AGER_TYP                 685843\n",
       "ALTERSKATEGORIE_GROB       2881\n",
       "ANREDE_KZ                     0\n",
       "CJT_GESAMTTYP              4854\n",
       "FINANZ_MINIMALIST             0\n",
       "FINANZ_SPARER                 0\n",
       "FINANZ_VORSORGER              0\n",
       "FINANZ_ANLEGER                0\n",
       "FINANZ_UNAUFFAELLIGER         0\n",
       "FINANZ_HAUSBAUER              0\n",
       "FINANZTYP                     0\n",
       "GEBURTSJAHR              392318\n",
       "GFK_URLAUBERTYP            4854\n",
       "GREEN_AVANTGARDE              0\n",
       "HEALTH_TYP               111196\n",
       "LP_LEBENSPHASE_FEIN       97632\n",
       "LP_LEBENSPHASE_GROB       94572\n",
       "LP_FAMILIE_FEIN           77792\n",
       "LP_FAMILIE_GROB           77792\n",
       "LP_STATUS_FEIN             4854\n",
       "LP_STATUS_GROB             4854\n",
       "NATIONALITAET_KZ         108315\n",
       "PRAEGENDE_JUGENDJAHRE    108164\n",
       "RETOURTYP_BK_S             4854\n",
       "SEMIO_SOZ                     0\n",
       "SEMIO_FAM                     0\n",
       "SEMIO_REL                     0\n",
       "SEMIO_MAT                     0\n",
       "SEMIO_VERT                    0\n",
       "SEMIO_LUST                    0\n",
       "                          ...  \n",
       "OST_WEST_KZ               93148\n",
       "WOHNLAGE                  93148\n",
       "CAMEO_DEUG_2015           99352\n",
       "CAMEO_DEU_2015            99352\n",
       "CAMEO_INTL_2015           99352\n",
       "KBA05_ANTG1              133324\n",
       "KBA05_ANTG2              133324\n",
       "KBA05_ANTG3              133324\n",
       "KBA05_ANTG4              133324\n",
       "KBA05_BAUMAX             476524\n",
       "KBA05_GBZ                133324\n",
       "BALLRAUM                  93740\n",
       "EWDICHTE                  93740\n",
       "INNENSTADT                93740\n",
       "GEBAEUDETYP_RASTER        93155\n",
       "KKK                      158064\n",
       "MOBI_REGIO               133324\n",
       "ONLINE_AFFINITAET          4854\n",
       "REGIOTYP                 158064\n",
       "KBA13_ANZAHL_PKW         105800\n",
       "PLZ8_ANTG1               116515\n",
       "PLZ8_ANTG2               116515\n",
       "PLZ8_ANTG3               116515\n",
       "PLZ8_ANTG4               116515\n",
       "PLZ8_BAUMAX              116515\n",
       "PLZ8_HHZ                 116515\n",
       "PLZ8_GBZ                 116515\n",
       "ARBEIT                    97375\n",
       "ORTSGR_KLS9               97274\n",
       "RELAT_AB                  97375\n",
       "Length: 85, dtype: int64"
      ]
     },
     "execution_count": 14,
     "metadata": {},
     "output_type": "execute_result"
    }
   ],
   "source": [
    "null_list"
   ]
  },
  {
   "cell_type": "code",
   "execution_count": 15,
   "metadata": {},
   "outputs": [
    {
     "data": {
      "text/plain": [
       "0         24\n",
       "116515     7\n",
       "4854       6\n",
       "133324     6\n",
       "93148      4\n",
       "73499      4\n",
       "111196     3\n",
       "99352      3\n",
       "93740      3\n",
       "97375      2\n",
       "77792      2\n",
       "158064     2\n",
       "93155      1\n",
       "584612     1\n",
       "108164     1\n",
       "685843     1\n",
       "147988     1\n",
       "99611      1\n",
       "97274      1\n",
       "108315     1\n",
       "73969      1\n",
       "18348      1\n",
       "97632      1\n",
       "476524     1\n",
       "2881       1\n",
       "105800     1\n",
       "97008      1\n",
       "310267     1\n",
       "94572      1\n",
       "889061     1\n",
       "392318     1\n",
       "dtype: int64"
      ]
     },
     "execution_count": 15,
     "metadata": {},
     "output_type": "execute_result"
    }
   ],
   "source": [
    "null_list.value_counts()"
   ]
  },
  {
   "cell_type": "code",
   "execution_count": 16,
   "metadata": {},
   "outputs": [
    {
     "data": {
      "text/plain": [
       "Int64Index([4854, 73499, 77792, 93148, 93740, 97375, 99352, 111196, 116515,\n",
       "            133324],\n",
       "           dtype='int64')"
      ]
     },
     "execution_count": 16,
     "metadata": {},
     "output_type": "execute_result"
    }
   ],
   "source": [
    "same_list_val = null_list.value_counts().index[1:11]\n",
    "same_list_val = same_list_val.sort_values()\n",
    "same_list_val"
   ]
  },
  {
   "cell_type": "code",
   "execution_count": 17,
   "metadata": {},
   "outputs": [],
   "source": [
    "null_sorted = null_list.sort_values()\n",
    "null_sorted_index = null_sorted.index"
   ]
  },
  {
   "cell_type": "code",
   "execution_count": 18,
   "metadata": {},
   "outputs": [],
   "source": [
    "same_list = [[] for _ in range(len(same_list_val))]\n",
    "cur_index = 0\n",
    "for i in range(len(null_sorted)):\n",
    "    if null_sorted[i] < same_list_val[cur_index]:\n",
    "        continue\n",
    "    if null_sorted[i] > same_list_val[cur_index]:\n",
    "        cur_index += 1\n",
    "        if cur_index == len(same_list_val):\n",
    "            break\n",
    "    if null_sorted[i] == same_list_val[cur_index]:\n",
    "        same_list[cur_index].append(null_sorted_index[i])"
   ]
  },
  {
   "cell_type": "code",
   "execution_count": 19,
   "metadata": {},
   "outputs": [
    {
     "name": "stdout",
     "output_type": "stream",
     "text": [
      "The following feature share 4854 missing value:\n",
      " ['GFK_URLAUBERTYP', 'LP_STATUS_GROB', 'LP_STATUS_FEIN', 'ONLINE_AFFINITAET', 'RETOURTYP_BK_S', 'CJT_GESAMTTYP'] \n",
      "\n",
      "The following feature share 73499 missing value:\n",
      " ['WOHNDAUER_2008', 'ANZ_TITEL', 'SOHO_KZ', 'ANZ_PERSONEN'] \n",
      "\n",
      "The following feature share 77792 missing value:\n",
      " ['LP_FAMILIE_GROB', 'LP_FAMILIE_FEIN'] \n",
      "\n",
      "The following feature share 93148 missing value:\n",
      " ['OST_WEST_KZ', 'WOHNLAGE', 'GEBAEUDETYP', 'MIN_GEBAEUDEJAHR'] \n",
      "\n",
      "The following feature share 93740 missing value:\n",
      " ['BALLRAUM', 'EWDICHTE', 'INNENSTADT'] \n",
      "\n",
      "The following feature share 97375 missing value:\n",
      " ['ARBEIT', 'RELAT_AB'] \n",
      "\n",
      "The following feature share 99352 missing value:\n",
      " ['CAMEO_DEUG_2015', 'CAMEO_DEU_2015', 'CAMEO_INTL_2015'] \n",
      "\n",
      "The following feature share 111196 missing value:\n",
      " ['HEALTH_TYP', 'VERS_TYP', 'SHOPPER_TYP'] \n",
      "\n",
      "The following feature share 116515 missing value:\n",
      " ['PLZ8_ANTG2', 'PLZ8_ANTG3', 'PLZ8_ANTG1', 'PLZ8_ANTG4', 'PLZ8_BAUMAX', 'PLZ8_HHZ', 'PLZ8_GBZ'] \n",
      "\n",
      "The following feature share 133324 missing value:\n",
      " ['KBA05_ANTG3', 'KBA05_ANTG2', 'KBA05_ANTG1', 'MOBI_REGIO', 'KBA05_GBZ', 'KBA05_ANTG4'] \n",
      "\n"
     ]
    }
   ],
   "source": [
    "for i in range(len(same_list_val)):\n",
    "    print(f'The following feature share {same_list_val[i]} missing value:\\n {same_list[i]} \\n')"
   ]
  },
  {
   "cell_type": "markdown",
   "metadata": {},
   "source": [
    "#### Discussion 1.1.2: Assess Missing Data in Each Column\n",
    "\n",
    "(Double click this cell and replace this text with your own text, reporting your observations regarding the amount of missing data in each column. Are there any patterns in missing values? Which columns were removed from the dataset?)"
   ]
  },
  {
   "cell_type": "markdown",
   "metadata": {},
   "source": [
    "The first graph shows the feature number of feature with 0-20% missing value. Most of the features has missing value less than 20%.The next graph shows the distribution of the missing value, the features with more than 30% of missing values as outliers were dropped. And we show that the number of fetures shares the same missing value."
   ]
  },
  {
   "cell_type": "markdown",
   "metadata": {},
   "source": [
    "#### Step 1.1.3: Assess Missing Data in Each Row\n",
    "\n",
    "Now, you'll perform a similar assessment for the rows of the dataset. How much data is missing in each row? As with the columns, you should see some groups of points that have a very different numbers of missing values. Divide the data into two subsets: one for data points that are above some threshold for missing values, and a second subset for points below that threshold.\n",
    "\n",
    "In order to know what to do with the outlier rows, we should see if the distribution of data values on columns that are not missing data (or are missing very little data) are similar or different between the two groups. Select at least five of these columns and compare the distribution of values.\n",
    "- You can use seaborn's [`countplot()`](https://seaborn.pydata.org/generated/seaborn.countplot.html) function to create a bar chart of code frequencies and matplotlib's [`subplot()`](https://matplotlib.org/api/_as_gen/matplotlib.pyplot.subplot.html) function to put bar charts for the two subplots side by side.\n",
    "- To reduce repeated code, you might want to write a function that can perform this comparison, taking as one of its arguments a column to be compared.\n",
    "\n",
    "Depending on what you observe in your comparison, this will have implications on how you approach your conclusions later in the analysis. If the distributions of non-missing features look similar between the data with many missing values and the data with few or no missing values, then we could argue that simply dropping those points from the analysis won't present a major issue. On the other hand, if the data with many missing values looks very different from the data with few or no missing values, then we should make a note on those data as special. We'll revisit these data later on. **Either way, you should continue your analysis for now using just the subset of the data with few or no missing values.**"
   ]
  },
  {
   "cell_type": "code",
   "execution_count": 20,
   "metadata": {
    "scrolled": true
   },
   "outputs": [
    {
     "data": {
      "text/plain": [
       "count    891221.000000\n",
       "mean          5.649894\n",
       "std          13.234687\n",
       "min           0.000000\n",
       "25%           0.000000\n",
       "50%           0.000000\n",
       "75%           3.000000\n",
       "max          49.000000\n",
       "Name: Missing_num, dtype: float64"
      ]
     },
     "execution_count": 20,
     "metadata": {},
     "output_type": "execute_result"
    }
   ],
   "source": [
    "# How much data is missing in each row of the dataset?\n",
    "\n",
    "azdias['Missing_num'] = azdias.isnull().sum(axis=1)\n",
    "azdias['Missing_num'].describe()"
   ]
  },
  {
   "cell_type": "code",
   "execution_count": 21,
   "metadata": {},
   "outputs": [
    {
     "data": {
      "image/png": "[encoded data removed]",
      "text/plain": [
       "<matplotlib.figure.Figure at 0x7f71b0fbe780>"
      ]
     },
     "metadata": {
      "needs_background": "light"
     },
     "output_type": "display_data"
    }
   ],
   "source": [
    "plt.figure(figsize=(15,5))\n",
    "plt.title('Distribution of the Missing Data in Each Row')\n",
    "plt.hist(azdias.isnull().sum(axis = 1) / len(azdias.columns) * 100, bins = np.linspace(0,100,100))\n",
    "plt.xlabel('Percentage of Missing Data')\n",
    "plt.ylabel('Count')\n",
    "plt.show()"
   ]
  },
  {
   "cell_type": "code",
   "execution_count": 22,
   "metadata": {},
   "outputs": [
    {
     "data": {
      "image/png": "[encoded data removed]",
      "text/plain": [
       "<matplotlib.figure.Figure at 0x7f71b0fbe128>"
      ]
     },
     "metadata": {
      "needs_background": "light"
     },
     "output_type": "display_data"
    }
   ],
   "source": [
    "plt.figure(figsize=(15,5))\n",
    "plt.title('Distribution of the Missing Data in Each Row')\n",
    "plt.hist(azdias.isnull().sum(axis = 1), bins = np.linspace(0,60,60))\n",
    "plt.xlabel('Number of Missing Data')\n",
    "plt.ylabel('Count')\n",
    "plt.show()"
   ]
  },
  {
   "cell_type": "code",
   "execution_count": 23,
   "metadata": {},
   "outputs": [],
   "source": [
    "# Write code to divide the data into two subsets based on the number of missing\n",
    "# values in each row.\n",
    "azdias_1 = azdias[azdias['Missing_num'] <= 5]\n",
    "azdias_2 = azdias[azdias['Missing_num'] > 5]\n",
    "\n",
    "azdias_1 = azdias_1.drop('Missing_num', axis = 1)\n",
    "azdias_2 = azdias_2.drop('Missing_num', axis = 1)\n",
    "azdias = azdias.drop('Missing_num', axis = 1)"
   ]
  },
  {
   "cell_type": "code",
   "execution_count": 24,
   "metadata": {},
   "outputs": [],
   "source": [
    "# Compare the distribution of values for at least five columns where there are\n",
    "# no or few missing values, between the two subsets.\n",
    "\n",
    "def plot(column_name):\n",
    "    plt.figure(figsize=(10,5))\n",
    "    plt.subplot(121)\n",
    "    ax = sns.countplot(x = column_name, data=azdias_1)\n",
    "    plt.title(\"Group 1: <= 5 Missing Value\")\n",
    "    plt.subplot(122)\n",
    "    ax = sns.countplot(x = column_name, data=azdias_2)\n",
    "    plt.title(\"Group 2: > 5 Missing Value\")\n",
    "    plt.tight_layout()"
   ]
  },
  {
   "cell_type": "code",
   "execution_count": 25,
   "metadata": {
    "scrolled": false
   },
   "outputs": [
    {
     "data": {
      "image/png": "[encoded data removed]",
      "text/plain": [
       "<matplotlib.figure.Figure at 0x7f71b0fe19e8>"
      ]
     },
     "metadata": {
      "needs_background": "light"
     },
     "output_type": "display_data"
    },
    {
     "data": {
      "image/png": "[encoded data removed]",
      "text/plain": [
       "<matplotlib.figure.Figure at 0x7f71ae3d3eb8>"
      ]
     },
     "metadata": {
      "needs_background": "light"
     },
     "output_type": "display_data"
    },
    {
     "data": {
      "image/png": "[encoded data removed]",
      "text/plain": [
       "<matplotlib.figure.Figure at 0x7f71ae5944a8>"
      ]
     },
     "metadata": {
      "needs_background": "light"
     },
     "output_type": "display_data"
    },
    {
     "data": {
      "image/png": "[encoded data removed]",
      "text/plain": [
       "<matplotlib.figure.Figure at 0x7f71ae26f5c0>"
      ]
     },
     "metadata": {
      "needs_background": "light"
     },
     "output_type": "display_data"
    },
    {
     "data": {
      "image/png": "[encoded data removed]",
      "text/plain": [
       "<matplotlib.figure.Figure at 0x7f71ae21d550>"
      ]
     },
     "metadata": {
      "needs_background": "light"
     },
     "output_type": "display_data"
    }
   ],
   "source": [
    "# Plot 5 random columns and compare the value distribution of 2 groups\n",
    "import random\n",
    "for i in range(5):\n",
    "    plot(azdias.columns[random.randint(0, 85)])"
   ]
  },
  {
   "cell_type": "markdown",
   "metadata": {},
   "source": [
    "#### Discussion 1.1.3: Assess Missing Data in Each Row\n",
    "\n",
    "(Double-click this cell and replace this text with your own text, reporting your observations regarding missing data in rows. Are the data with lots of missing values are qualitatively different from data with few or no missing values?)"
   ]
  },
  {
   "cell_type": "markdown",
   "metadata": {},
   "source": [
    "The top graphs of the count/percentage of missing value in each row illustrate the highest percentage of missing value one column contain is around 60%. \n",
    "\n",
    "From those 5 random comparison graphs above, we observe that some of the features have a similar pattern in both groups but more of them are different. There would be some errors during plotting because the entire column is composed of missing value in group 2."
   ]
  },
  {
   "cell_type": "markdown",
   "metadata": {},
   "source": [
    "### Step 1.2: Select and Re-Encode Features\n",
    "\n",
    "Checking for missing data isn't the only way in which you can prepare a dataset for analysis. Since the unsupervised learning techniques to be used will only work on data that is encoded numerically, you need to make a few encoding changes or additional assumptions to be able to make progress. In addition, while almost all of the values in the dataset are encoded using numbers, not all of them represent numeric values. Check the third column of the feature summary (`feat_info`) for a summary of types of measurement.\n",
    "- For numeric and interval data, these features can be kept without changes.\n",
    "- Most of the variables in the dataset are ordinal in nature. While ordinal values may technically be non-linear in spacing, make the simplifying assumption that the ordinal variables can be treated as being interval in nature (that is, kept without any changes).\n",
    "- Special handling may be necessary for the remaining two variable types: categorical, and 'mixed'.\n",
    "\n",
    "In the first two parts of this sub-step, you will perform an investigation of the categorical and mixed-type features and make a decision on each of them, whether you will keep, drop, or re-encode each. Then, in the last part, you will create a new data frame with only the selected and engineered columns.\n",
    "\n",
    "Data wrangling is often the trickiest part of the data analysis process, and there's a lot of it to be done here. But stick with it: once you're done with this step, you'll be ready to get to the machine learning parts of the project!"
   ]
  },
  {
   "cell_type": "code",
   "execution_count": 26,
   "metadata": {},
   "outputs": [
    {
     "data": {
      "text/plain": [
       "ordinal        49\n",
       "categorical    18\n",
       "mixed           6\n",
       "numeric         6\n",
       "Name: type, dtype: int64"
      ]
     },
     "execution_count": 26,
     "metadata": {},
     "output_type": "execute_result"
    }
   ],
   "source": [
    "# How many features are there of each data type?\n",
    "feat_info.type.value_counts()\n"
   ]
  },
  {
   "cell_type": "markdown",
   "metadata": {},
   "source": [
    "#### Step 1.2.1: Re-Encode Categorical Features\n",
    "\n",
    "For categorical data, you would ordinarily need to encode the levels as dummy variables. Depending on the number of categories, perform one of the following:\n",
    "- For binary (two-level) categoricals that take numeric values, you can keep them without needing to do anything.\n",
    "- There is one binary variable that takes on non-numeric values. For this one, you need to re-encode the values as numbers or create a dummy variable.\n",
    "- For multi-level categoricals (three or more values), you can choose to encode the values using multiple dummy variables (e.g. via [OneHotEncoder](http://scikit-learn.org/stable/modules/generated/sklearn.preprocessing.OneHotEncoder.html)), or (to keep things straightforward) just drop them from the analysis. As always, document your choices in the Discussion section."
   ]
  },
  {
   "cell_type": "code",
   "execution_count": 27,
   "metadata": {},
   "outputs": [
    {
     "data": {
      "text/html": [
       "<div>\n",
       "<style scoped>\n",
       "    .dataframe tbody tr th:only-of-type {\n",
       "        vertical-align: middle;\n",
       "    }\n",
       "\n",
       "    .dataframe tbody tr th {\n",
       "        vertical-align: top;\n",
       "    }\n",
       "\n",
       "    .dataframe thead th {\n",
       "        text-align: right;\n",
       "    }\n",
       "</style>\n",
       "<table border=\"1\" class=\"dataframe\">\n",
       "  <thead>\n",
       "    <tr style=\"text-align: right;\">\n",
       "      <th></th>\n",
       "      <th>attribute</th>\n",
       "      <th>information_level</th>\n",
       "      <th>type</th>\n",
       "      <th>missing_or_unknown</th>\n",
       "    </tr>\n",
       "  </thead>\n",
       "  <tbody>\n",
       "    <tr>\n",
       "      <th>2</th>\n",
       "      <td>ANREDE_KZ</td>\n",
       "      <td>person</td>\n",
       "      <td>categorical</td>\n",
       "      <td>[-1,0]</td>\n",
       "    </tr>\n",
       "    <tr>\n",
       "      <th>3</th>\n",
       "      <td>CJT_GESAMTTYP</td>\n",
       "      <td>person</td>\n",
       "      <td>categorical</td>\n",
       "      <td>[0]</td>\n",
       "    </tr>\n",
       "    <tr>\n",
       "      <th>10</th>\n",
       "      <td>FINANZTYP</td>\n",
       "      <td>person</td>\n",
       "      <td>categorical</td>\n",
       "      <td>[-1]</td>\n",
       "    </tr>\n",
       "    <tr>\n",
       "      <th>12</th>\n",
       "      <td>GFK_URLAUBERTYP</td>\n",
       "      <td>person</td>\n",
       "      <td>categorical</td>\n",
       "      <td>[]</td>\n",
       "    </tr>\n",
       "    <tr>\n",
       "      <th>13</th>\n",
       "      <td>GREEN_AVANTGARDE</td>\n",
       "      <td>person</td>\n",
       "      <td>categorical</td>\n",
       "      <td>[]</td>\n",
       "    </tr>\n",
       "    <tr>\n",
       "      <th>17</th>\n",
       "      <td>LP_FAMILIE_FEIN</td>\n",
       "      <td>person</td>\n",
       "      <td>categorical</td>\n",
       "      <td>[0]</td>\n",
       "    </tr>\n",
       "    <tr>\n",
       "      <th>18</th>\n",
       "      <td>LP_FAMILIE_GROB</td>\n",
       "      <td>person</td>\n",
       "      <td>categorical</td>\n",
       "      <td>[0]</td>\n",
       "    </tr>\n",
       "    <tr>\n",
       "      <th>19</th>\n",
       "      <td>LP_STATUS_FEIN</td>\n",
       "      <td>person</td>\n",
       "      <td>categorical</td>\n",
       "      <td>[0]</td>\n",
       "    </tr>\n",
       "    <tr>\n",
       "      <th>20</th>\n",
       "      <td>LP_STATUS_GROB</td>\n",
       "      <td>person</td>\n",
       "      <td>categorical</td>\n",
       "      <td>[0]</td>\n",
       "    </tr>\n",
       "    <tr>\n",
       "      <th>21</th>\n",
       "      <td>NATIONALITAET_KZ</td>\n",
       "      <td>person</td>\n",
       "      <td>categorical</td>\n",
       "      <td>[-1,0]</td>\n",
       "    </tr>\n",
       "    <tr>\n",
       "      <th>38</th>\n",
       "      <td>SHOPPER_TYP</td>\n",
       "      <td>person</td>\n",
       "      <td>categorical</td>\n",
       "      <td>[-1]</td>\n",
       "    </tr>\n",
       "    <tr>\n",
       "      <th>39</th>\n",
       "      <td>SOHO_KZ</td>\n",
       "      <td>person</td>\n",
       "      <td>categorical</td>\n",
       "      <td>[-1]</td>\n",
       "    </tr>\n",
       "    <tr>\n",
       "      <th>41</th>\n",
       "      <td>VERS_TYP</td>\n",
       "      <td>person</td>\n",
       "      <td>categorical</td>\n",
       "      <td>[-1]</td>\n",
       "    </tr>\n",
       "    <tr>\n",
       "      <th>42</th>\n",
       "      <td>ZABEOTYP</td>\n",
       "      <td>person</td>\n",
       "      <td>categorical</td>\n",
       "      <td>[-1,9]</td>\n",
       "    </tr>\n",
       "    <tr>\n",
       "      <th>52</th>\n",
       "      <td>GEBAEUDETYP</td>\n",
       "      <td>building</td>\n",
       "      <td>categorical</td>\n",
       "      <td>[-1,0]</td>\n",
       "    </tr>\n",
       "    <tr>\n",
       "      <th>55</th>\n",
       "      <td>OST_WEST_KZ</td>\n",
       "      <td>building</td>\n",
       "      <td>categorical</td>\n",
       "      <td>[-1]</td>\n",
       "    </tr>\n",
       "    <tr>\n",
       "      <th>57</th>\n",
       "      <td>CAMEO_DEUG_2015</td>\n",
       "      <td>microcell_rr4</td>\n",
       "      <td>categorical</td>\n",
       "      <td>[-1,X]</td>\n",
       "    </tr>\n",
       "    <tr>\n",
       "      <th>58</th>\n",
       "      <td>CAMEO_DEU_2015</td>\n",
       "      <td>microcell_rr4</td>\n",
       "      <td>categorical</td>\n",
       "      <td>[XX]</td>\n",
       "    </tr>\n",
       "  </tbody>\n",
       "</table>\n",
       "</div>"
      ],
      "text/plain": [
       "           attribute information_level         type missing_or_unknown\n",
       "2          ANREDE_KZ            person  categorical             [-1,0]\n",
       "3      CJT_GESAMTTYP            person  categorical                [0]\n",
       "10         FINANZTYP            person  categorical               [-1]\n",
       "12   GFK_URLAUBERTYP            person  categorical                 []\n",
       "13  GREEN_AVANTGARDE            person  categorical                 []\n",
       "17   LP_FAMILIE_FEIN            person  categorical                [0]\n",
       "18   LP_FAMILIE_GROB            person  categorical                [0]\n",
       "19    LP_STATUS_FEIN            person  categorical                [0]\n",
       "20    LP_STATUS_GROB            person  categorical                [0]\n",
       "21  NATIONALITAET_KZ            person  categorical             [-1,0]\n",
       "38       SHOPPER_TYP            person  categorical               [-1]\n",
       "39           SOHO_KZ            person  categorical               [-1]\n",
       "41          VERS_TYP            person  categorical               [-1]\n",
       "42          ZABEOTYP            person  categorical             [-1,9]\n",
       "52       GEBAEUDETYP          building  categorical             [-1,0]\n",
       "55       OST_WEST_KZ          building  categorical               [-1]\n",
       "57   CAMEO_DEUG_2015     microcell_rr4  categorical             [-1,X]\n",
       "58    CAMEO_DEU_2015     microcell_rr4  categorical               [XX]"
      ]
     },
     "execution_count": 27,
     "metadata": {},
     "output_type": "execute_result"
    }
   ],
   "source": [
    "# Assess categorical variables: which are binary, which are multi-level, and\n",
    "# which one needs to be re-encoded?\n",
    "feat_info[feat_info['type'] == 'categorical']\n"
   ]
  },
  {
   "cell_type": "code",
   "execution_count": 28,
   "metadata": {
    "scrolled": false
   },
   "outputs": [
    {
     "data": {
      "image/png": "[encoded data removed]",
      "text/plain": [
       "<matplotlib.figure.Figure at 0x7f71ae13b550>"
      ]
     },
     "metadata": {
      "needs_background": "light"
     },
     "output_type": "display_data"
    },
    {
     "data": {
      "image/png": "[encoded data removed]",
      "text/plain": [
       "<matplotlib.figure.Figure at 0x7f71ae0cc198>"
      ]
     },
     "metadata": {
      "needs_background": "light"
     },
     "output_type": "display_data"
    },
    {
     "data": {
      "image/png": "[encoded data removed]",
      "text/plain": [
       "<matplotlib.figure.Figure at 0x7f71ae1dc7f0>"
      ]
     },
     "metadata": {
      "needs_background": "light"
     },
     "output_type": "display_data"
    },
    {
     "data": {
      "image/png": "[encoded data removed]",
      "text/plain": [
       "<matplotlib.figure.Figure at 0x7f71ae2e0240>"
      ]
     },
     "metadata": {
      "needs_background": "light"
     },
     "output_type": "display_data"
    },
    {
     "data": {
      "image/png": "[encoded data removed]",
      "text/plain": [
       "<matplotlib.figure.Figure at 0x7f71ae1ba080>"
      ]
     },
     "metadata": {
      "needs_background": "light"
     },
     "output_type": "display_data"
    },
    {
     "data": {
      "image/png": "[encoded data removed]",
      "text/plain": [
       "<matplotlib.figure.Figure at 0x7f71ae121208>"
      ]
     },
     "metadata": {
      "needs_background": "light"
     },
     "output_type": "display_data"
    },
    {
     "data": {
      "image/png": "[encoded data removed]",
      "text/plain": [
       "<matplotlib.figure.Figure at 0x7f71ae06ce80>"
      ]
     },
     "metadata": {
      "needs_background": "light"
     },
     "output_type": "display_data"
    },
    {
     "data": {
      "image/png": "[encoded data removed]",
      "text/plain": [
       "<matplotlib.figure.Figure at 0x7f71b10034a8>"
      ]
     },
     "metadata": {
      "needs_background": "light"
     },
     "output_type": "display_data"
    },
    {
     "data": {
      "image/png": "[encoded data removed]",
      "text/plain": [
       "<matplotlib.figure.Figure at 0x7f71ae76de80>"
      ]
     },
     "metadata": {
      "needs_background": "light"
     },
     "output_type": "display_data"
    },
    {
     "data": {
      "image/png": "[encoded data removed]",
      "text/plain": [
       "<matplotlib.figure.Figure at 0x7f71ae12b9e8>"
      ]
     },
     "metadata": {
      "needs_background": "light"
     },
     "output_type": "display_data"
    },
    {
     "data": {
      "image/png": "[encoded data removed]",
      "text/plain": [
       "<matplotlib.figure.Figure at 0x7f71ae792ef0>"
      ]
     },
     "metadata": {
      "needs_background": "light"
     },
     "output_type": "display_data"
    },
    {
     "data": {
      "image/png": "[encoded data removed]",
      "text/plain": [
       "<matplotlib.figure.Figure at 0x7f71ae774be0>"
      ]
     },
     "metadata": {
      "needs_background": "light"
     },
     "output_type": "display_data"
    },
    {
     "data": {
      "image/png": "[encoded data removed]",
      "text/plain": [
       "<matplotlib.figure.Figure at 0x7f71ae48e4e0>"
      ]
     },
     "metadata": {
      "needs_background": "light"
     },
     "output_type": "display_data"
    },
    {
     "data": {
      "image/png": "[encoded data removed]",
      "text/plain": [
       "<matplotlib.figure.Figure at 0x7f71ae4a1128>"
      ]
     },
     "metadata": {
      "needs_background": "light"
     },
     "output_type": "display_data"
    },
    {
     "data": {
      "image/png": "[encoded data removed]",
      "text/plain": [
       "<matplotlib.figure.Figure at 0x7f71ae202748>"
      ]
     },
     "metadata": {
      "needs_background": "light"
     },
     "output_type": "display_data"
    },
    {
     "data": {
      "image/png": "[encoded data removed]",
      "text/plain": [
       "<matplotlib.figure.Figure at 0x7f71ae2a3eb8>"
      ]
     },
     "metadata": {
      "needs_background": "light"
     },
     "output_type": "display_data"
    },
    {
     "data": {
      "image/png": "[encoded data removed]",
      "text/plain": [
       "<matplotlib.figure.Figure at 0x7f71ae3f4eb8>"
      ]
     },
     "metadata": {
      "needs_background": "light"
     },
     "output_type": "display_data"
    },
    {
     "data": {
      "image/png": "[encoded data removed]",
      "text/plain": [
       "<matplotlib.figure.Figure at 0x7f71ae742fd0>"
      ]
     },
     "metadata": {
      "needs_background": "light"
     },
     "output_type": "display_data"
    }
   ],
   "source": [
    "# Re-encode categorical variable(s) to be kept in the analysis.\n",
    "for attribute in feat_info[feat_info['type'] == 'categorical']['attribute']:\n",
    "    ax = sns.countplot(x = attribute, data=azdias_1)\n",
    "    plt.show()\n"
   ]
  },
  {
   "cell_type": "code",
   "execution_count": 29,
   "metadata": {},
   "outputs": [],
   "source": [
    "azdias_1 = pd.get_dummies(azdias_1, columns = ['CJT_GESAMTTYP','FINANZTYP', 'LP_FAMILIE_GROB', 'LP_STATUS_GROB', \n",
    "                                               'NATIONALITAET_KZ', 'SHOPPER_TYP', 'ZABEOTYP', 'OST_WEST_KZ'])\n",
    "\n",
    "azdias_encode = azdias_1.drop(['GFK_URLAUBERTYP', 'LP_FAMILIE_FEIN', 'LP_STATUS_FEIN', 'GEBAEUDETYP', 'CAMEO_DEUG_2015', 'CAMEO_DEU_2015'], axis = 1)"
   ]
  },
  {
   "cell_type": "markdown",
   "metadata": {},
   "source": [
    "#### Discussion 1.2.1: Re-Encode Categorical Features\n",
    "\n",
    "(Double-click this cell and replace this text with your own text, reporting your findings and decisions regarding categorical features. Which ones did you keep, which did you drop, and what engineering steps did you perform?)"
   ]
  },
  {
   "cell_type": "markdown",
   "metadata": {},
   "source": [
    "There are 20 categorical features in feat_info. The features with >= 8 values were dropped, namely 'GFK_URLAUBERTYP', 'LP_FAMILIE_FEIN', 'LP_STATUS_FEIN', 'GEBAEUDETYP', 'CAMEO_DEUG_2015' and 'CAMEO_DEU_2015'. (In total: 5)\n",
    "\n",
    "There are 5 binary categoricals which we can keep, except one ('OST_WEST_KZ') takes on non-numeric values and we need to one-hot encode it.\n",
    "\n",
    "The rest 8 categorical features are one-hot encoded shown in the code above. These features are:\n",
    "\n",
    "'CJT_GESAMTTYP','FINANZTYP', 'LP_FAMILIE_GROB', 'LP_STATUS_GROB', NATIONALITAET_KZ', 'SHOPPER_TYP', 'ZABEOTYP', 'OST_WEST_KZ'.\n",
    "\n",
    "After such feature engineering on categorical features, there are 101 columns remaining."
   ]
  },
  {
   "cell_type": "markdown",
   "metadata": {},
   "source": [
    "#### Step 1.2.2: Engineer Mixed-Type Features\n",
    "\n",
    "There are a handful of features that are marked as \"mixed\" in the feature summary that require special treatment in order to be included in the analysis. There are two in particular that deserve attention; the handling of the rest are up to your own choices:\n",
    "- \"PRAEGENDE_JUGENDJAHRE\" combines information on three dimensions: generation by decade, movement (mainstream vs. avantgarde), and nation (east vs. west). While there aren't enough levels to disentangle east from west, you should create two new variables to capture the other two dimensions: an interval-type variable for decade, and a binary variable for movement.\n",
    "- \"CAMEO_INTL_2015\" combines information on two axes: wealth and life stage. Break up the two-digit codes by their 'tens'-place and 'ones'-place digits into two new ordinal variables (which, for the purposes of this project, is equivalent to just treating them as their raw numeric values).\n",
    "- If you decide to keep or engineer new features around the other mixed-type features, make sure you note your steps in the Discussion section.\n",
    "\n",
    "Be sure to check `Data_Dictionary.md` for the details needed to finish these tasks."
   ]
  },
  {
   "cell_type": "code",
   "execution_count": 30,
   "metadata": {
    "scrolled": true
   },
   "outputs": [
    {
     "data": {
      "text/plain": [
       "14.0    168815\n",
       "8.0     130339\n",
       "5.0      80064\n",
       "10.0     78492\n",
       "3.0      50728\n",
       "15.0     38221\n",
       "11.0     31951\n",
       "9.0      31607\n",
       "6.0      24650\n",
       "12.0     22855\n",
       "4.0      19715\n",
       "1.0      18924\n",
       "2.0       7044\n",
       "13.0      5050\n",
       "7.0       3805\n",
       "Name: PRAEGENDE_JUGENDJAHRE, dtype: int64"
      ]
     },
     "execution_count": 30,
     "metadata": {},
     "output_type": "execute_result"
    }
   ],
   "source": [
    "# Investigate \"PRAEGENDE_JUGENDJAHRE\" and engineer two new variables.\n",
    "azdias_encode['PRAEGENDE_JUGENDJAHRE'].value_counts()"
   ]
  },
  {
   "cell_type": "code",
   "execution_count": 31,
   "metadata": {},
   "outputs": [
    {
     "data": {
      "text/html": [
       "<div>\n",
       "<style scoped>\n",
       "    .dataframe tbody tr th:only-of-type {\n",
       "        vertical-align: middle;\n",
       "    }\n",
       "\n",
       "    .dataframe tbody tr th {\n",
       "        vertical-align: top;\n",
       "    }\n",
       "\n",
       "    .dataframe thead th {\n",
       "        text-align: right;\n",
       "    }\n",
       "</style>\n",
       "<table border=\"1\" class=\"dataframe\">\n",
       "  <thead>\n",
       "    <tr style=\"text-align: right;\">\n",
       "      <th></th>\n",
       "      <th>attribute</th>\n",
       "      <th>information_level</th>\n",
       "      <th>type</th>\n",
       "      <th>missing_or_unknown</th>\n",
       "    </tr>\n",
       "  </thead>\n",
       "  <tbody>\n",
       "    <tr>\n",
       "      <th>15</th>\n",
       "      <td>LP_LEBENSPHASE_FEIN</td>\n",
       "      <td>person</td>\n",
       "      <td>mixed</td>\n",
       "      <td>[0]</td>\n",
       "    </tr>\n",
       "    <tr>\n",
       "      <th>16</th>\n",
       "      <td>LP_LEBENSPHASE_GROB</td>\n",
       "      <td>person</td>\n",
       "      <td>mixed</td>\n",
       "      <td>[0]</td>\n",
       "    </tr>\n",
       "    <tr>\n",
       "      <th>22</th>\n",
       "      <td>PRAEGENDE_JUGENDJAHRE</td>\n",
       "      <td>person</td>\n",
       "      <td>mixed</td>\n",
       "      <td>[-1,0]</td>\n",
       "    </tr>\n",
       "    <tr>\n",
       "      <th>56</th>\n",
       "      <td>WOHNLAGE</td>\n",
       "      <td>building</td>\n",
       "      <td>mixed</td>\n",
       "      <td>[-1]</td>\n",
       "    </tr>\n",
       "    <tr>\n",
       "      <th>59</th>\n",
       "      <td>CAMEO_INTL_2015</td>\n",
       "      <td>microcell_rr4</td>\n",
       "      <td>mixed</td>\n",
       "      <td>[-1,XX]</td>\n",
       "    </tr>\n",
       "    <tr>\n",
       "      <th>79</th>\n",
       "      <td>PLZ8_BAUMAX</td>\n",
       "      <td>macrocell_plz8</td>\n",
       "      <td>mixed</td>\n",
       "      <td>[-1,0]</td>\n",
       "    </tr>\n",
       "  </tbody>\n",
       "</table>\n",
       "</div>"
      ],
      "text/plain": [
       "                attribute information_level   type missing_or_unknown\n",
       "15    LP_LEBENSPHASE_FEIN            person  mixed                [0]\n",
       "16    LP_LEBENSPHASE_GROB            person  mixed                [0]\n",
       "22  PRAEGENDE_JUGENDJAHRE            person  mixed             [-1,0]\n",
       "56               WOHNLAGE          building  mixed               [-1]\n",
       "59        CAMEO_INTL_2015     microcell_rr4  mixed            [-1,XX]\n",
       "79            PLZ8_BAUMAX    macrocell_plz8  mixed             [-1,0]"
      ]
     },
     "execution_count": 31,
     "metadata": {},
     "output_type": "execute_result"
    }
   ],
   "source": [
    "feat_info[feat_info['type'] == 'mixed']"
   ]
  },
  {
   "cell_type": "code",
   "execution_count": 32,
   "metadata": {},
   "outputs": [],
   "source": [
    "# Create new features for \"PRAEGENDE_JUGENDJAHRE\"\n",
    "def new_feature_PJ(azdias_encode):\n",
    "    azdias_encode.loc[azdias_encode['PRAEGENDE_JUGENDJAHRE'] == 1.0, 'Decade'] = '40s'\n",
    "    azdias_encode.loc[azdias_encode['PRAEGENDE_JUGENDJAHRE'] == 1.0, 'Movement'] = 'MainStream'\n",
    "    azdias_encode.loc[azdias_encode['PRAEGENDE_JUGENDJAHRE'] == 1.0, 'Nation'] = 'E+W'\n",
    "\n",
    "    azdias_encode.loc[azdias_encode['PRAEGENDE_JUGENDJAHRE'] == 2.0, 'Decade'] = '40s'\n",
    "    azdias_encode.loc[azdias_encode['PRAEGENDE_JUGENDJAHRE'] == 2.0, 'Movement'] = 'Avantgarde'\n",
    "    azdias_encode.loc[azdias_encode['PRAEGENDE_JUGENDJAHRE'] == 2.0, 'Nation'] = 'E+W'\n",
    "\n",
    "    azdias_encode.loc[azdias_encode['PRAEGENDE_JUGENDJAHRE'] == 3.0, 'Decade'] = '50s'\n",
    "    azdias_encode.loc[azdias_encode['PRAEGENDE_JUGENDJAHRE'] == 3.0, 'Movement'] = 'MainStream'\n",
    "    azdias_encode.loc[azdias_encode['PRAEGENDE_JUGENDJAHRE'] == 3.0, 'Nation'] = 'E+W'\n",
    "\n",
    "    azdias_encode.loc[azdias_encode['PRAEGENDE_JUGENDJAHRE'] == 4.0, 'Decade'] = '50s'\n",
    "    azdias_encode.loc[azdias_encode['PRAEGENDE_JUGENDJAHRE'] == 4.0, 'Movement'] = 'Avantgarde'\n",
    "    azdias_encode.loc[azdias_encode['PRAEGENDE_JUGENDJAHRE'] == 4.0, 'Nation'] = 'E+W'\n",
    "\n",
    "    azdias_encode.loc[azdias_encode['PRAEGENDE_JUGENDJAHRE'] == 5.0, 'Decade'] = '60s'\n",
    "    azdias_encode.loc[azdias_encode['PRAEGENDE_JUGENDJAHRE'] == 5.0, 'Movement'] = 'MainStream'\n",
    "    azdias_encode.loc[azdias_encode['PRAEGENDE_JUGENDJAHRE'] == 5.0, 'Nation'] = 'E+W'\n",
    "\n",
    "    azdias_encode.loc[azdias_encode['PRAEGENDE_JUGENDJAHRE'] == 6.0, 'Decade'] = '60s'\n",
    "    azdias_encode.loc[azdias_encode['PRAEGENDE_JUGENDJAHRE'] == 6.0, 'Movement'] = 'Avantgarde'\n",
    "    azdias_encode.loc[azdias_encode['PRAEGENDE_JUGENDJAHRE'] == 6.0, 'Nation'] = 'W'\n",
    "\n",
    "    azdias_encode.loc[azdias_encode['PRAEGENDE_JUGENDJAHRE'] == 7.0, 'Decade'] = '60s'\n",
    "    azdias_encode.loc[azdias_encode['PRAEGENDE_JUGENDJAHRE'] == 7.0, 'Movement'] = 'Avantgarde'\n",
    "    azdias_encode.loc[azdias_encode['PRAEGENDE_JUGENDJAHRE'] == 7.0, 'Nation'] = 'E'\n",
    "\n",
    "    azdias_encode.loc[azdias_encode['PRAEGENDE_JUGENDJAHRE'] == 8.0, 'Decade'] = '70s'\n",
    "    azdias_encode.loc[azdias_encode['PRAEGENDE_JUGENDJAHRE'] == 8.0, 'Movement'] = 'MainStream'\n",
    "    azdias_encode.loc[azdias_encode['PRAEGENDE_JUGENDJAHRE'] == 8.0, 'Nation'] = 'E+W'\n",
    "\n",
    "    azdias_encode.loc[azdias_encode['PRAEGENDE_JUGENDJAHRE'] == 9.0, 'Decade'] = '70s'\n",
    "    azdias_encode.loc[azdias_encode['PRAEGENDE_JUGENDJAHRE'] == 9.0, 'Movement'] = 'Avantgarde'\n",
    "    azdias_encode.loc[azdias_encode['PRAEGENDE_JUGENDJAHRE'] == 9.0, 'Nation'] = 'E+W'\n",
    "\n",
    "    azdias_encode.loc[azdias_encode['PRAEGENDE_JUGENDJAHRE'] == 10.0, 'Decade'] = '80s'\n",
    "    azdias_encode.loc[azdias_encode['PRAEGENDE_JUGENDJAHRE'] == 10.0, 'Movement'] = 'MainStream'\n",
    "    azdias_encode.loc[azdias_encode['PRAEGENDE_JUGENDJAHRE'] == 10.0, 'Nation'] = 'W'\n",
    "\n",
    "    azdias_encode.loc[azdias_encode['PRAEGENDE_JUGENDJAHRE'] == 11.0, 'Decade'] = '80s'\n",
    "    azdias_encode.loc[azdias_encode['PRAEGENDE_JUGENDJAHRE'] == 11.0, 'Movement'] = 'Avantgarde'\n",
    "    azdias_encode.loc[azdias_encode['PRAEGENDE_JUGENDJAHRE'] == 11.0, 'Nation'] = 'W'\n",
    "\n",
    "    azdias_encode.loc[azdias_encode['PRAEGENDE_JUGENDJAHRE'] == 12.0, 'Decade'] = '80s'\n",
    "    azdias_encode.loc[azdias_encode['PRAEGENDE_JUGENDJAHRE'] == 12.0, 'Movement'] = 'MainStream'\n",
    "    azdias_encode.loc[azdias_encode['PRAEGENDE_JUGENDJAHRE'] == 12.0, 'Nation'] = 'E'\n",
    "\n",
    "    azdias_encode.loc[azdias_encode['PRAEGENDE_JUGENDJAHRE'] == 13.0, 'Decade'] = '80s'\n",
    "    azdias_encode.loc[azdias_encode['PRAEGENDE_JUGENDJAHRE'] == 13.0, 'Movement'] = 'Avantgarde'\n",
    "    azdias_encode.loc[azdias_encode['PRAEGENDE_JUGENDJAHRE'] == 13.0, 'Nation'] = 'E'\n",
    "\n",
    "    azdias_encode.loc[azdias_encode['PRAEGENDE_JUGENDJAHRE'] == 14.0, 'Decade'] = '90s'\n",
    "    azdias_encode.loc[azdias_encode['PRAEGENDE_JUGENDJAHRE'] == 14.0, 'Movement'] = 'MainStream'\n",
    "    azdias_encode.loc[azdias_encode['PRAEGENDE_JUGENDJAHRE'] == 14.0, 'Nation'] = 'E+W'\n",
    "\n",
    "    azdias_encode.loc[azdias_encode['PRAEGENDE_JUGENDJAHRE'] == 15.0, 'Decade'] = '90s'\n",
    "    azdias_encode.loc[azdias_encode['PRAEGENDE_JUGENDJAHRE'] == 15.0, 'Movement'] = 'Avantgarde'\n",
    "    azdias_encode.loc[azdias_encode['PRAEGENDE_JUGENDJAHRE'] == 15.0, 'Nation'] = 'E+W'\n",
    "    \n",
    "    return azdias_encode"
   ]
  },
  {
   "cell_type": "code",
   "execution_count": 33,
   "metadata": {},
   "outputs": [],
   "source": [
    "azdias_encode = new_feature_PJ(azdias_encode)"
   ]
  },
  {
   "cell_type": "code",
   "execution_count": 34,
   "metadata": {},
   "outputs": [],
   "source": [
    "# One-hot encode the 3 new features\n",
    "azdias_encode = pd.get_dummies(azdias_encode, columns = ['Decade', 'Movement', 'Nation'])\n",
    "# Drop the original 'PRAEGENDE_JUGENDJAHRE'\n",
    "azdias_encode = azdias_encode.drop('PRAEGENDE_JUGENDJAHRE', axis = 1)"
   ]
  },
  {
   "cell_type": "code",
   "execution_count": 35,
   "metadata": {},
   "outputs": [],
   "source": [
    "# Investigate \"CAMEO_INTL_2015\" and engineer two new variables.\n",
    "\n",
    "def new_feature_CI2015(azdias_encode):\n",
    "    azdias_encode[\"CAMEO_INTL_2015\"] = azdias_encode[\"CAMEO_INTL_2015\"].astype(float)\n",
    "\n",
    "    # Investigate \"CAMEO_INTL_2015\" and engineer two new variables.\n",
    "    azdias_encode.loc[azdias_encode[\"CAMEO_INTL_2015\"] // 10 == 1.0, 'Wealth'] = 'Wealthy Households'\n",
    "    azdias_encode.loc[azdias_encode[\"CAMEO_INTL_2015\"] // 10 == 2.0, 'Wealth'] = 'Prosperous Households'\n",
    "    azdias_encode.loc[azdias_encode[\"CAMEO_INTL_2015\"] // 10 == 3.0, 'Wealth'] = 'Comfortable Households'\n",
    "    azdias_encode.loc[azdias_encode[\"CAMEO_INTL_2015\"] // 10 == 4.0, 'Wealth'] = 'Less Affluent Households'\n",
    "    azdias_encode.loc[azdias_encode[\"CAMEO_INTL_2015\"] // 10 == 5.0, 'Wealth'] = 'Poorer Households'\n",
    "\n",
    "    azdias_encode.loc[azdias_encode[\"CAMEO_INTL_2015\"] % 10 == 1.0, 'Life_Stage'] = 'Pre-Family Couples & Singles'\n",
    "    azdias_encode.loc[azdias_encode[\"CAMEO_INTL_2015\"] % 10 == 2.0, 'Life_Stage'] = 'Young Couples With Children'\n",
    "    azdias_encode.loc[azdias_encode[\"CAMEO_INTL_2015\"] % 10 == 3.0, 'Life_Stage'] = 'Families With School Age Children'\n",
    "    azdias_encode.loc[azdias_encode[\"CAMEO_INTL_2015\"] % 10 == 4.0, 'Life_Stage'] = 'Older Families &  Mature Couples'\n",
    "    azdias_encode.loc[azdias_encode[\"CAMEO_INTL_2015\"] % 10 == 5.0, 'Life_Stage'] = 'Elders In Retirement'\n",
    "    return azdias_encode\n"
   ]
  },
  {
   "cell_type": "code",
   "execution_count": 36,
   "metadata": {},
   "outputs": [],
   "source": [
    "azdias_encode = new_feature_CI2015(azdias_encode)"
   ]
  },
  {
   "cell_type": "code",
   "execution_count": 37,
   "metadata": {},
   "outputs": [],
   "source": [
    "# One-hot encode the 2 new features\n",
    "azdias_encode = pd.get_dummies(azdias_encode, columns = ['Wealth', 'Life_Stage'])\n",
    "# Drop the original \"CAMEO_INTL_2015\"\n",
    "azdias_encode = azdias_encode.drop('CAMEO_INTL_2015', axis = 1)"
   ]
  },
  {
   "cell_type": "code",
   "execution_count": 38,
   "metadata": {},
   "outputs": [],
   "source": [
    "# Also drop\n",
    "azdias_encode.drop(['LP_LEBENSPHASE_FEIN', 'LP_LEBENSPHASE_GROB', 'WOHNLAGE', 'PLZ8_BAUMAX'],axis = 1, inplace = True)"
   ]
  },
  {
   "cell_type": "markdown",
   "metadata": {},
   "source": [
    "#### Discussion 1.2.2: Engineer Mixed-Type Features\n",
    "\n",
    "(Double-click this cell and replace this text with your own text, reporting your findings and decisions regarding mixed-value features. Which ones did you keep, which did you drop, and what engineering steps did you perform?)"
   ]
  },
  {
   "cell_type": "markdown",
   "metadata": {},
   "source": [
    "Hard coded feature PRAEGENDE_JUGENDJAHRE and added new features to interpret it. The second feature CAMEO_INTL_2015 and be separated into 2 features by breaking up 2-digit value into two. The rest of the features were dropped to simplify the problem and they are not useful for the analysis anyway."
   ]
  },
  {
   "cell_type": "markdown",
   "metadata": {},
   "source": [
    "#### Step 1.2.3: Complete Feature Selection\n",
    "\n",
    "In order to finish this step up, you need to make sure that your data frame now only has the columns that you want to keep. To summarize, the dataframe should consist of the following:\n",
    "- All numeric, interval, and ordinal type columns from the original dataset.\n",
    "- Binary categorical features (all numerically-encoded).\n",
    "- Engineered features from other multi-level categorical features and mixed features.\n",
    "\n",
    "Make sure that for any new columns that you have engineered, that you've excluded the original columns from the final dataset. Otherwise, their values will interfere with the analysis later on the project. For example, you should not keep \"PRAEGENDE_JUGENDJAHRE\", since its values won't be useful for the algorithm: only the values derived from it in the engineered features you created should be retained. As a reminder, your data should only be from **the subset with few or no missing values**."
   ]
  },
  {
   "cell_type": "code",
   "execution_count": 39,
   "metadata": {},
   "outputs": [],
   "source": [
    "# If there are other re-engineering tasks you need to perform, make sure you\n",
    "# take care of them here. (Dealing with missing data will come in step 2.1.)\n",
    "\n"
   ]
  },
  {
   "cell_type": "code",
   "execution_count": 40,
   "metadata": {},
   "outputs": [
    {
     "data": {
      "image/png": "[encoded data removed]",
      "text/plain": [
       "<matplotlib.figure.Figure at 0x7f71ae343cf8>"
      ]
     },
     "metadata": {
      "needs_background": "light"
     },
     "output_type": "display_data"
    }
   ],
   "source": [
    "# Do whatever you need to in order to ensure that the dataframe only contains\n",
    "# the columns that should be passed to the algorithm functions.\n",
    "null_list = azdias_encode.isnull().sum()\n",
    "null_per = null_list / len(azdias) * 100\n",
    "plt.figure(figsize=(15,5))\n",
    "plt.title('Distribution of Missing Data in Each Column')\n",
    "plt.hist(null_per)\n",
    "plt.xlabel('Percentage of Missing Data')\n",
    "plt.ylabel('Count')\n",
    "plt.show()"
   ]
  },
  {
   "cell_type": "markdown",
   "metadata": {},
   "source": [
    "### Step 1.3: Create a Cleaning Function\n",
    "\n",
    "Even though you've finished cleaning up the general population demographics data, it's important to look ahead to the future and realize that you'll need to perform the same cleaning steps on the customer demographics data. In this substep, complete the function below to execute the main feature selection, encoding, and re-engineering steps you performed above. Then, when it comes to looking at the customer data in Step 3, you can just run this function on that DataFrame to get the trimmed dataset in a single step."
   ]
  },
  {
   "cell_type": "code",
   "execution_count": 65,
   "metadata": {},
   "outputs": [],
   "source": [
    "def clean_data(df):\n",
    "    \"\"\"\n",
    "    Perform feature trimming, re-encoding, and engineering for demographics\n",
    "    data\n",
    "    \n",
    "    INPUT: Demographics DataFrame\n",
    "    OUTPUT: Trimmed and cleaned demographics DataFrame\n",
    "    \"\"\"\n",
    "    \n",
    "    # Put in code here to execute all main cleaning steps:\n",
    "    # convert missing value codes into NaNs, ...\n",
    "    feat_info = pd.read_csv('AZDIAS_Feature_Summary.csv', sep = ';')\n",
    "    for i, col in enumerate(df.columns):\n",
    "        str_n = feat_info['missing_or_unknown'].iloc[i]\n",
    "        if i in [57, 58, 59]:\n",
    "            list_n = str_n[1: -1].split(',')\n",
    "        else:\n",
    "            list_n = ast.literal_eval(str_n)\n",
    "        for num in list_n:\n",
    "            df[col].replace(num, np.NaN, inplace = True)\n",
    "    \n",
    "    # remove selected columns and rows, ...\n",
    "    #drop_columns = ['TITEL_KZ', 'AGER_TYP', 'GEBURTSJAHR', 'ALTER_HH', 'KK_KUNDENTYP', 'KBA05_BAUMAX']\n",
    "    #df.drop(drop_columns, axis = 1, inplace = True)\n",
    "    \n",
    "    df['Missing_num'] = df.isnull().sum(axis=1)\n",
    "    df_1 = df[df['Missing_num'] <= 5]\n",
    "    df_1 = df_1.drop('Missing_num', axis = 1)\n",
    "    # select, re-encode, and engineer column values.\n",
    "    df_1 = pd.get_dummies(df_1, columns = ['CJT_GESAMTTYP','FINANZTYP', 'LP_FAMILIE_GROB', 'LP_STATUS_GROB', \n",
    "                                               'NATIONALITAET_KZ', 'SHOPPER_TYP', 'ZABEOTYP', 'OST_WEST_KZ'])\n",
    "    df = df_1.drop(['GFK_URLAUBERTYP', 'LP_FAMILIE_FEIN', 'LP_STATUS_FEIN', 'GEBAEUDETYP', 'CAMEO_DEUG_2015', 'CAMEO_DEU_2015'], axis = 1)\n",
    "    df = new_feature_PJ(df)\n",
    "    df = pd.get_dummies(df, columns = ['Decade', 'Movement', 'Nation'])\n",
    "    df = df.drop('PRAEGENDE_JUGENDJAHRE', axis = 1)\n",
    "    df = new_feature_CI2015(df)\n",
    "    df = pd.get_dummies(df, columns = ['Wealth', 'Life_Stage'])\n",
    "    df = df.drop('CAMEO_INTL_2015', axis = 1)\n",
    "    df.drop(['LP_LEBENSPHASE_FEIN', 'LP_LEBENSPHASE_GROB', 'WOHNLAGE', 'PLZ8_BAUMAX'], axis = 1, inplace = True)\n",
    "    \n",
    "    # Return the cleaned dataframe.\n",
    "    return df\n",
    "    "
   ]
  },
  {
   "cell_type": "markdown",
   "metadata": {},
   "source": [
    "## Step 2: Feature Transformation\n",
    "\n",
    "### Step 2.1: Apply Feature Scaling\n",
    "\n",
    "Before we apply dimensionality reduction techniques to the data, we need to perform feature scaling so that the principal component vectors are not influenced by the natural differences in scale for features. Starting from this part of the project, you'll want to keep an eye on the [API reference page for sklearn](http://scikit-learn.org/stable/modules/classes.html) to help you navigate to all of the classes and functions that you'll need. In this substep, you'll need to check the following:\n",
    "\n",
    "- sklearn requires that data not have missing values in order for its estimators to work properly. So, before applying the scaler to your data, make sure that you've cleaned the DataFrame of the remaining missing values. This can be as simple as just removing all data points with missing data, or applying an [Imputer](http://scikit-learn.org/stable/modules/generated/sklearn.preprocessing.Imputer.html) to replace all missing values. You might also try a more complicated procedure where you temporarily remove missing values in order to compute the scaling parameters before re-introducing those missing values and applying imputation. Think about how much missing data you have and what possible effects each approach might have on your analysis, and justify your decision in the discussion section below.\n",
    "- For the actual scaling function, a [StandardScaler](http://scikit-learn.org/stable/modules/generated/sklearn.preprocessing.StandardScaler.html) instance is suggested, scaling each feature to mean 0 and standard deviation 1.\n",
    "- For these classes, you can make use of the `.fit_transform()` method to both fit a procedure to the data as well as apply the transformation to the data at the same time. Don't forget to keep the fit sklearn objects handy, since you'll be applying them to the customer demographics data towards the end of the project."
   ]
  },
  {
   "cell_type": "code",
   "execution_count": 42,
   "metadata": {},
   "outputs": [
    {
     "data": {
      "text/html": [
       "<div>\n",
       "<style scoped>\n",
       "    .dataframe tbody tr th:only-of-type {\n",
       "        vertical-align: middle;\n",
       "    }\n",
       "\n",
       "    .dataframe tbody tr th {\n",
       "        vertical-align: top;\n",
       "    }\n",
       "\n",
       "    .dataframe thead th {\n",
       "        text-align: right;\n",
       "    }\n",
       "</style>\n",
       "<table border=\"1\" class=\"dataframe\">\n",
       "  <thead>\n",
       "    <tr style=\"text-align: right;\">\n",
       "      <th></th>\n",
       "      <th>ALTERSKATEGORIE_GROB</th>\n",
       "      <th>ANREDE_KZ</th>\n",
       "      <th>FINANZ_MINIMALIST</th>\n",
       "      <th>FINANZ_SPARER</th>\n",
       "      <th>FINANZ_VORSORGER</th>\n",
       "      <th>FINANZ_ANLEGER</th>\n",
       "      <th>FINANZ_UNAUFFAELLIGER</th>\n",
       "      <th>FINANZ_HAUSBAUER</th>\n",
       "      <th>GREEN_AVANTGARDE</th>\n",
       "      <th>HEALTH_TYP</th>\n",
       "      <th>...</th>\n",
       "      <th>Wealth_Comfortable Households</th>\n",
       "      <th>Wealth_Less Affluent Households</th>\n",
       "      <th>Wealth_Poorer Households</th>\n",
       "      <th>Wealth_Prosperous Households</th>\n",
       "      <th>Wealth_Wealthy Households</th>\n",
       "      <th>Life_Stage_Elders In Retirement</th>\n",
       "      <th>Life_Stage_Families With School Age Children</th>\n",
       "      <th>Life_Stage_Older Families &amp;  Mature Couples</th>\n",
       "      <th>Life_Stage_Pre-Family Couples &amp; Singles</th>\n",
       "      <th>Life_Stage_Young Couples With Children</th>\n",
       "    </tr>\n",
       "  </thead>\n",
       "  <tbody>\n",
       "    <tr>\n",
       "      <th>count</th>\n",
       "      <td>718093.000000</td>\n",
       "      <td>719624.000000</td>\n",
       "      <td>719624.000000</td>\n",
       "      <td>719624.000000</td>\n",
       "      <td>719624.000000</td>\n",
       "      <td>719624.00000</td>\n",
       "      <td>719624.000000</td>\n",
       "      <td>719624.000000</td>\n",
       "      <td>719624.000000</td>\n",
       "      <td>704814.000000</td>\n",
       "      <td>...</td>\n",
       "      <td>719624.000000</td>\n",
       "      <td>719624.000000</td>\n",
       "      <td>719624.000000</td>\n",
       "      <td>719624.000000</td>\n",
       "      <td>719624.000000</td>\n",
       "      <td>719624.000000</td>\n",
       "      <td>719624.000000</td>\n",
       "      <td>719624.000000</td>\n",
       "      <td>719624.000000</td>\n",
       "      <td>719624.000000</td>\n",
       "    </tr>\n",
       "    <tr>\n",
       "      <th>mean</th>\n",
       "      <td>2.793277</td>\n",
       "      <td>1.516453</td>\n",
       "      <td>3.065229</td>\n",
       "      <td>2.669370</td>\n",
       "      <td>3.458492</td>\n",
       "      <td>2.79274</td>\n",
       "      <td>2.562273</td>\n",
       "      <td>3.165282</td>\n",
       "      <td>0.225177</td>\n",
       "      <td>2.213222</td>\n",
       "      <td>...</td>\n",
       "      <td>0.083387</td>\n",
       "      <td>0.242949</td>\n",
       "      <td>0.289252</td>\n",
       "      <td>0.231068</td>\n",
       "      <td>0.149096</td>\n",
       "      <td>0.150005</td>\n",
       "      <td>0.143625</td>\n",
       "      <td>0.294087</td>\n",
       "      <td>0.312355</td>\n",
       "      <td>0.095681</td>\n",
       "    </tr>\n",
       "    <tr>\n",
       "      <th>std</th>\n",
       "      <td>1.031134</td>\n",
       "      <td>0.499730</td>\n",
       "      <td>1.361379</td>\n",
       "      <td>1.474188</td>\n",
       "      <td>1.387388</td>\n",
       "      <td>1.45717</td>\n",
       "      <td>1.375376</td>\n",
       "      <td>1.377705</td>\n",
       "      <td>0.417699</td>\n",
       "      <td>0.755041</td>\n",
       "      <td>...</td>\n",
       "      <td>0.276466</td>\n",
       "      <td>0.428865</td>\n",
       "      <td>0.453416</td>\n",
       "      <td>0.421516</td>\n",
       "      <td>0.356183</td>\n",
       "      <td>0.357076</td>\n",
       "      <td>0.350709</td>\n",
       "      <td>0.455632</td>\n",
       "      <td>0.463454</td>\n",
       "      <td>0.294153</td>\n",
       "    </tr>\n",
       "    <tr>\n",
       "      <th>min</th>\n",
       "      <td>1.000000</td>\n",
       "      <td>1.000000</td>\n",
       "      <td>1.000000</td>\n",
       "      <td>1.000000</td>\n",
       "      <td>1.000000</td>\n",
       "      <td>1.00000</td>\n",
       "      <td>1.000000</td>\n",
       "      <td>1.000000</td>\n",
       "      <td>0.000000</td>\n",
       "      <td>1.000000</td>\n",
       "      <td>...</td>\n",
       "      <td>0.000000</td>\n",
       "      <td>0.000000</td>\n",
       "      <td>0.000000</td>\n",
       "      <td>0.000000</td>\n",
       "      <td>0.000000</td>\n",
       "      <td>0.000000</td>\n",
       "      <td>0.000000</td>\n",
       "      <td>0.000000</td>\n",
       "      <td>0.000000</td>\n",
       "      <td>0.000000</td>\n",
       "    </tr>\n",
       "    <tr>\n",
       "      <th>25%</th>\n",
       "      <td>2.000000</td>\n",
       "      <td>1.000000</td>\n",
       "      <td>2.000000</td>\n",
       "      <td>1.000000</td>\n",
       "      <td>2.000000</td>\n",
       "      <td>1.00000</td>\n",
       "      <td>1.000000</td>\n",
       "      <td>2.000000</td>\n",
       "      <td>0.000000</td>\n",
       "      <td>2.000000</td>\n",
       "      <td>...</td>\n",
       "      <td>0.000000</td>\n",
       "      <td>0.000000</td>\n",
       "      <td>0.000000</td>\n",
       "      <td>0.000000</td>\n",
       "      <td>0.000000</td>\n",
       "      <td>0.000000</td>\n",
       "      <td>0.000000</td>\n",
       "      <td>0.000000</td>\n",
       "      <td>0.000000</td>\n",
       "      <td>0.000000</td>\n",
       "    </tr>\n",
       "    <tr>\n",
       "      <th>50%</th>\n",
       "      <td>3.000000</td>\n",
       "      <td>2.000000</td>\n",
       "      <td>3.000000</td>\n",
       "      <td>2.000000</td>\n",
       "      <td>4.000000</td>\n",
       "      <td>3.00000</td>\n",
       "      <td>2.000000</td>\n",
       "      <td>3.000000</td>\n",
       "      <td>0.000000</td>\n",
       "      <td>2.000000</td>\n",
       "      <td>...</td>\n",
       "      <td>0.000000</td>\n",
       "      <td>0.000000</td>\n",
       "      <td>0.000000</td>\n",
       "      <td>0.000000</td>\n",
       "      <td>0.000000</td>\n",
       "      <td>0.000000</td>\n",
       "      <td>0.000000</td>\n",
       "      <td>0.000000</td>\n",
       "      <td>0.000000</td>\n",
       "      <td>0.000000</td>\n",
       "    </tr>\n",
       "    <tr>\n",
       "      <th>75%</th>\n",
       "      <td>4.000000</td>\n",
       "      <td>2.000000</td>\n",
       "      <td>4.000000</td>\n",
       "      <td>4.000000</td>\n",
       "      <td>5.000000</td>\n",
       "      <td>4.00000</td>\n",
       "      <td>4.000000</td>\n",
       "      <td>4.000000</td>\n",
       "      <td>0.000000</td>\n",
       "      <td>3.000000</td>\n",
       "      <td>...</td>\n",
       "      <td>0.000000</td>\n",
       "      <td>0.000000</td>\n",
       "      <td>1.000000</td>\n",
       "      <td>0.000000</td>\n",
       "      <td>0.000000</td>\n",
       "      <td>0.000000</td>\n",
       "      <td>0.000000</td>\n",
       "      <td>1.000000</td>\n",
       "      <td>1.000000</td>\n",
       "      <td>0.000000</td>\n",
       "    </tr>\n",
       "    <tr>\n",
       "      <th>max</th>\n",
       "      <td>4.000000</td>\n",
       "      <td>2.000000</td>\n",
       "      <td>5.000000</td>\n",
       "      <td>5.000000</td>\n",
       "      <td>5.000000</td>\n",
       "      <td>5.00000</td>\n",
       "      <td>5.000000</td>\n",
       "      <td>5.000000</td>\n",
       "      <td>1.000000</td>\n",
       "      <td>3.000000</td>\n",
       "      <td>...</td>\n",
       "      <td>1.000000</td>\n",
       "      <td>1.000000</td>\n",
       "      <td>1.000000</td>\n",
       "      <td>1.000000</td>\n",
       "      <td>1.000000</td>\n",
       "      <td>1.000000</td>\n",
       "      <td>1.000000</td>\n",
       "      <td>1.000000</td>\n",
       "      <td>1.000000</td>\n",
       "      <td>1.000000</td>\n",
       "    </tr>\n",
       "  </tbody>\n",
       "</table>\n",
       "<p>8 rows × 117 columns</p>\n",
       "</div>"
      ],
      "text/plain": [
       "       ALTERSKATEGORIE_GROB      ANREDE_KZ  FINANZ_MINIMALIST  FINANZ_SPARER  \\\n",
       "count         718093.000000  719624.000000      719624.000000  719624.000000   \n",
       "mean               2.793277       1.516453           3.065229       2.669370   \n",
       "std                1.031134       0.499730           1.361379       1.474188   \n",
       "min                1.000000       1.000000           1.000000       1.000000   \n",
       "25%                2.000000       1.000000           2.000000       1.000000   \n",
       "50%                3.000000       2.000000           3.000000       2.000000   \n",
       "75%                4.000000       2.000000           4.000000       4.000000   \n",
       "max                4.000000       2.000000           5.000000       5.000000   \n",
       "\n",
       "       FINANZ_VORSORGER  FINANZ_ANLEGER  FINANZ_UNAUFFAELLIGER  \\\n",
       "count     719624.000000    719624.00000          719624.000000   \n",
       "mean           3.458492         2.79274               2.562273   \n",
       "std            1.387388         1.45717               1.375376   \n",
       "min            1.000000         1.00000               1.000000   \n",
       "25%            2.000000         1.00000               1.000000   \n",
       "50%            4.000000         3.00000               2.000000   \n",
       "75%            5.000000         4.00000               4.000000   \n",
       "max            5.000000         5.00000               5.000000   \n",
       "\n",
       "       FINANZ_HAUSBAUER  GREEN_AVANTGARDE     HEALTH_TYP  \\\n",
       "count     719624.000000     719624.000000  704814.000000   \n",
       "mean           3.165282          0.225177       2.213222   \n",
       "std            1.377705          0.417699       0.755041   \n",
       "min            1.000000          0.000000       1.000000   \n",
       "25%            2.000000          0.000000       2.000000   \n",
       "50%            3.000000          0.000000       2.000000   \n",
       "75%            4.000000          0.000000       3.000000   \n",
       "max            5.000000          1.000000       3.000000   \n",
       "\n",
       "                        ...                    Wealth_Comfortable Households  \\\n",
       "count                   ...                                    719624.000000   \n",
       "mean                    ...                                         0.083387   \n",
       "std                     ...                                         0.276466   \n",
       "min                     ...                                         0.000000   \n",
       "25%                     ...                                         0.000000   \n",
       "50%                     ...                                         0.000000   \n",
       "75%                     ...                                         0.000000   \n",
       "max                     ...                                         1.000000   \n",
       "\n",
       "       Wealth_Less Affluent Households  Wealth_Poorer Households  \\\n",
       "count                    719624.000000             719624.000000   \n",
       "mean                          0.242949                  0.289252   \n",
       "std                           0.428865                  0.453416   \n",
       "min                           0.000000                  0.000000   \n",
       "25%                           0.000000                  0.000000   \n",
       "50%                           0.000000                  0.000000   \n",
       "75%                           0.000000                  1.000000   \n",
       "max                           1.000000                  1.000000   \n",
       "\n",
       "       Wealth_Prosperous Households  Wealth_Wealthy Households  \\\n",
       "count                 719624.000000              719624.000000   \n",
       "mean                       0.231068                   0.149096   \n",
       "std                        0.421516                   0.356183   \n",
       "min                        0.000000                   0.000000   \n",
       "25%                        0.000000                   0.000000   \n",
       "50%                        0.000000                   0.000000   \n",
       "75%                        0.000000                   0.000000   \n",
       "max                        1.000000                   1.000000   \n",
       "\n",
       "       Life_Stage_Elders In Retirement  \\\n",
       "count                    719624.000000   \n",
       "mean                          0.150005   \n",
       "std                           0.357076   \n",
       "min                           0.000000   \n",
       "25%                           0.000000   \n",
       "50%                           0.000000   \n",
       "75%                           0.000000   \n",
       "max                           1.000000   \n",
       "\n",
       "       Life_Stage_Families With School Age Children  \\\n",
       "count                                 719624.000000   \n",
       "mean                                       0.143625   \n",
       "std                                        0.350709   \n",
       "min                                        0.000000   \n",
       "25%                                        0.000000   \n",
       "50%                                        0.000000   \n",
       "75%                                        0.000000   \n",
       "max                                        1.000000   \n",
       "\n",
       "       Life_Stage_Older Families &  Mature Couples  \\\n",
       "count                                719624.000000   \n",
       "mean                                      0.294087   \n",
       "std                                       0.455632   \n",
       "min                                       0.000000   \n",
       "25%                                       0.000000   \n",
       "50%                                       0.000000   \n",
       "75%                                       1.000000   \n",
       "max                                       1.000000   \n",
       "\n",
       "       Life_Stage_Pre-Family Couples & Singles  \\\n",
       "count                            719624.000000   \n",
       "mean                                  0.312355   \n",
       "std                                   0.463454   \n",
       "min                                   0.000000   \n",
       "25%                                   0.000000   \n",
       "50%                                   0.000000   \n",
       "75%                                   1.000000   \n",
       "max                                   1.000000   \n",
       "\n",
       "       Life_Stage_Young Couples With Children  \n",
       "count                           719624.000000  \n",
       "mean                                 0.095681  \n",
       "std                                  0.294153  \n",
       "min                                  0.000000  \n",
       "25%                                  0.000000  \n",
       "50%                                  0.000000  \n",
       "75%                                  0.000000  \n",
       "max                                  1.000000  \n",
       "\n",
       "[8 rows x 117 columns]"
      ]
     },
     "execution_count": 42,
     "metadata": {},
     "output_type": "execute_result"
    }
   ],
   "source": [
    "# If you've not yet cleaned the dataset of all NaN values, then investigate and\n",
    "# do that now.\n",
    "df = azdias_encode\n",
    "df.describe()"
   ]
  },
  {
   "cell_type": "code",
   "execution_count": 43,
   "metadata": {},
   "outputs": [],
   "source": [
    "# Apply feature scaling to the general population demographics data.\n",
    "from sklearn.preprocessing import Imputer\n",
    "from sklearn.preprocessing import StandardScaler\n",
    "\n",
    "imp = Imputer(missing_values=float(\"NaN\"), strategy=\"mean\", axis=1, copy = False)\n",
    "scale = StandardScaler()\n",
    "df[df.columns] = scale.fit_transform(imp.fit_transform(df))"
   ]
  },
  {
   "cell_type": "code",
   "execution_count": 44,
   "metadata": {},
   "outputs": [
    {
     "data": {
      "text/plain": [
       "0"
      ]
     },
     "execution_count": 44,
     "metadata": {},
     "output_type": "execute_result"
    }
   ],
   "source": [
    "df.isnull().sum().sum()"
   ]
  },
  {
   "cell_type": "code",
   "execution_count": 45,
   "metadata": {},
   "outputs": [
    {
     "data": {
      "text/html": [
       "<div>\n",
       "<style scoped>\n",
       "    .dataframe tbody tr th:only-of-type {\n",
       "        vertical-align: middle;\n",
       "    }\n",
       "\n",
       "    .dataframe tbody tr th {\n",
       "        vertical-align: top;\n",
       "    }\n",
       "\n",
       "    .dataframe thead th {\n",
       "        text-align: right;\n",
       "    }\n",
       "</style>\n",
       "<table border=\"1\" class=\"dataframe\">\n",
       "  <thead>\n",
       "    <tr style=\"text-align: right;\">\n",
       "      <th></th>\n",
       "      <th>ALTERSKATEGORIE_GROB</th>\n",
       "      <th>ANREDE_KZ</th>\n",
       "      <th>FINANZ_MINIMALIST</th>\n",
       "      <th>FINANZ_SPARER</th>\n",
       "      <th>FINANZ_VORSORGER</th>\n",
       "      <th>FINANZ_ANLEGER</th>\n",
       "      <th>FINANZ_UNAUFFAELLIGER</th>\n",
       "      <th>FINANZ_HAUSBAUER</th>\n",
       "      <th>GREEN_AVANTGARDE</th>\n",
       "      <th>HEALTH_TYP</th>\n",
       "      <th>...</th>\n",
       "      <th>Wealth_Comfortable Households</th>\n",
       "      <th>Wealth_Less Affluent Households</th>\n",
       "      <th>Wealth_Poorer Households</th>\n",
       "      <th>Wealth_Prosperous Households</th>\n",
       "      <th>Wealth_Wealthy Households</th>\n",
       "      <th>Life_Stage_Elders In Retirement</th>\n",
       "      <th>Life_Stage_Families With School Age Children</th>\n",
       "      <th>Life_Stage_Older Families &amp;  Mature Couples</th>\n",
       "      <th>Life_Stage_Pre-Family Couples &amp; Singles</th>\n",
       "      <th>Life_Stage_Young Couples With Children</th>\n",
       "    </tr>\n",
       "  </thead>\n",
       "  <tbody>\n",
       "    <tr>\n",
       "      <th>count</th>\n",
       "      <td>7.196240e+05</td>\n",
       "      <td>7.196240e+05</td>\n",
       "      <td>7.196240e+05</td>\n",
       "      <td>7.196240e+05</td>\n",
       "      <td>7.196240e+05</td>\n",
       "      <td>7.196240e+05</td>\n",
       "      <td>7.196240e+05</td>\n",
       "      <td>719624.000000</td>\n",
       "      <td>7.196240e+05</td>\n",
       "      <td>7.196240e+05</td>\n",
       "      <td>...</td>\n",
       "      <td>7.196240e+05</td>\n",
       "      <td>7.196240e+05</td>\n",
       "      <td>7.196240e+05</td>\n",
       "      <td>7.196240e+05</td>\n",
       "      <td>7.196240e+05</td>\n",
       "      <td>7.196240e+05</td>\n",
       "      <td>7.196240e+05</td>\n",
       "      <td>7.196240e+05</td>\n",
       "      <td>7.196240e+05</td>\n",
       "      <td>7.196240e+05</td>\n",
       "    </tr>\n",
       "    <tr>\n",
       "      <th>mean</th>\n",
       "      <td>9.054280e-17</td>\n",
       "      <td>1.815793e-16</td>\n",
       "      <td>1.058472e-17</td>\n",
       "      <td>8.199208e-17</td>\n",
       "      <td>-7.022250e-17</td>\n",
       "      <td>-7.654174e-17</td>\n",
       "      <td>2.488199e-18</td>\n",
       "      <td>0.000000</td>\n",
       "      <td>3.217873e-17</td>\n",
       "      <td>-6.501901e-17</td>\n",
       "      <td>...</td>\n",
       "      <td>-7.956066e-17</td>\n",
       "      <td>-9.873805e-20</td>\n",
       "      <td>8.736343e-17</td>\n",
       "      <td>-7.942489e-17</td>\n",
       "      <td>-1.093030e-17</td>\n",
       "      <td>-5.689287e-17</td>\n",
       "      <td>9.917250e-17</td>\n",
       "      <td>-1.767411e-18</td>\n",
       "      <td>-1.722979e-17</td>\n",
       "      <td>-2.920672e-17</td>\n",
       "    </tr>\n",
       "    <tr>\n",
       "      <th>std</th>\n",
       "      <td>1.000001e+00</td>\n",
       "      <td>1.000001e+00</td>\n",
       "      <td>1.000001e+00</td>\n",
       "      <td>1.000001e+00</td>\n",
       "      <td>1.000001e+00</td>\n",
       "      <td>1.000001e+00</td>\n",
       "      <td>1.000001e+00</td>\n",
       "      <td>1.000001</td>\n",
       "      <td>1.000001e+00</td>\n",
       "      <td>1.000001e+00</td>\n",
       "      <td>...</td>\n",
       "      <td>1.000001e+00</td>\n",
       "      <td>1.000001e+00</td>\n",
       "      <td>1.000001e+00</td>\n",
       "      <td>1.000001e+00</td>\n",
       "      <td>1.000001e+00</td>\n",
       "      <td>1.000001e+00</td>\n",
       "      <td>1.000001e+00</td>\n",
       "      <td>1.000001e+00</td>\n",
       "      <td>1.000001e+00</td>\n",
       "      <td>1.000001e+00</td>\n",
       "    </tr>\n",
       "    <tr>\n",
       "      <th>min</th>\n",
       "      <td>-1.273054e+00</td>\n",
       "      <td>-1.033466e+00</td>\n",
       "      <td>-1.517013e+00</td>\n",
       "      <td>-1.132401e+00</td>\n",
       "      <td>-1.772031e+00</td>\n",
       "      <td>-1.230290e+00</td>\n",
       "      <td>-1.135889e+00</td>\n",
       "      <td>-1.571660</td>\n",
       "      <td>-5.390898e-01</td>\n",
       "      <td>-5.130795e-01</td>\n",
       "      <td>...</td>\n",
       "      <td>-3.016165e-01</td>\n",
       "      <td>-5.664937e-01</td>\n",
       "      <td>-6.379415e-01</td>\n",
       "      <td>-5.481833e-01</td>\n",
       "      <td>-4.185936e-01</td>\n",
       "      <td>-4.200918e-01</td>\n",
       "      <td>-4.095275e-01</td>\n",
       "      <td>-6.454494e-01</td>\n",
       "      <td>-6.739720e-01</td>\n",
       "      <td>-3.252751e-01</td>\n",
       "    </tr>\n",
       "    <tr>\n",
       "      <th>25%</th>\n",
       "      <td>-5.810625e-01</td>\n",
       "      <td>-1.033466e+00</td>\n",
       "      <td>-7.824631e-01</td>\n",
       "      <td>-1.132401e+00</td>\n",
       "      <td>-1.051251e+00</td>\n",
       "      <td>-1.230290e+00</td>\n",
       "      <td>-1.135889e+00</td>\n",
       "      <td>-0.845814</td>\n",
       "      <td>-5.390898e-01</td>\n",
       "      <td>-2.055229e-01</td>\n",
       "      <td>...</td>\n",
       "      <td>-3.016165e-01</td>\n",
       "      <td>-5.664937e-01</td>\n",
       "      <td>-6.379415e-01</td>\n",
       "      <td>-5.481833e-01</td>\n",
       "      <td>-4.185936e-01</td>\n",
       "      <td>-4.200918e-01</td>\n",
       "      <td>-4.095275e-01</td>\n",
       "      <td>-6.454494e-01</td>\n",
       "      <td>-6.739720e-01</td>\n",
       "      <td>-3.252751e-01</td>\n",
       "    </tr>\n",
       "    <tr>\n",
       "      <th>50%</th>\n",
       "      <td>1.109295e-01</td>\n",
       "      <td>9.676179e-01</td>\n",
       "      <td>-4.791357e-02</td>\n",
       "      <td>-4.540607e-01</td>\n",
       "      <td>3.903078e-01</td>\n",
       "      <td>1.422345e-01</td>\n",
       "      <td>-4.088142e-01</td>\n",
       "      <td>-0.119969</td>\n",
       "      <td>-5.390898e-01</td>\n",
       "      <td>-2.055229e-01</td>\n",
       "      <td>...</td>\n",
       "      <td>-3.016165e-01</td>\n",
       "      <td>-5.664937e-01</td>\n",
       "      <td>-6.379415e-01</td>\n",
       "      <td>-5.481833e-01</td>\n",
       "      <td>-4.185936e-01</td>\n",
       "      <td>-4.200918e-01</td>\n",
       "      <td>-4.095275e-01</td>\n",
       "      <td>-6.454494e-01</td>\n",
       "      <td>-6.739720e-01</td>\n",
       "      <td>-3.252751e-01</td>\n",
       "    </tr>\n",
       "    <tr>\n",
       "      <th>75%</th>\n",
       "      <td>8.029214e-01</td>\n",
       "      <td>9.676179e-01</td>\n",
       "      <td>6.866360e-01</td>\n",
       "      <td>9.026193e-01</td>\n",
       "      <td>1.111087e+00</td>\n",
       "      <td>8.284969e-01</td>\n",
       "      <td>1.045335e+00</td>\n",
       "      <td>0.605876</td>\n",
       "      <td>-5.390898e-01</td>\n",
       "      <td>1.020338e-01</td>\n",
       "      <td>...</td>\n",
       "      <td>-3.016165e-01</td>\n",
       "      <td>-5.664937e-01</td>\n",
       "      <td>1.567542e+00</td>\n",
       "      <td>-5.481833e-01</td>\n",
       "      <td>-4.185936e-01</td>\n",
       "      <td>-4.200918e-01</td>\n",
       "      <td>-4.095275e-01</td>\n",
       "      <td>1.549308e+00</td>\n",
       "      <td>1.483741e+00</td>\n",
       "      <td>-3.252751e-01</td>\n",
       "    </tr>\n",
       "    <tr>\n",
       "      <th>max</th>\n",
       "      <td>2.392395e+01</td>\n",
       "      <td>9.676179e-01</td>\n",
       "      <td>1.421186e+00</td>\n",
       "      <td>1.580959e+00</td>\n",
       "      <td>1.111087e+00</td>\n",
       "      <td>1.514759e+00</td>\n",
       "      <td>1.772409e+00</td>\n",
       "      <td>1.331721</td>\n",
       "      <td>1.854978e+00</td>\n",
       "      <td>1.121152e+01</td>\n",
       "      <td>...</td>\n",
       "      <td>3.315469e+00</td>\n",
       "      <td>1.765245e+00</td>\n",
       "      <td>1.567542e+00</td>\n",
       "      <td>1.824207e+00</td>\n",
       "      <td>2.388952e+00</td>\n",
       "      <td>2.380432e+00</td>\n",
       "      <td>2.441839e+00</td>\n",
       "      <td>1.549308e+00</td>\n",
       "      <td>1.483741e+00</td>\n",
       "      <td>3.074321e+00</td>\n",
       "    </tr>\n",
       "  </tbody>\n",
       "</table>\n",
       "<p>8 rows × 117 columns</p>\n",
       "</div>"
      ],
      "text/plain": [
       "       ALTERSKATEGORIE_GROB     ANREDE_KZ  FINANZ_MINIMALIST  FINANZ_SPARER  \\\n",
       "count          7.196240e+05  7.196240e+05       7.196240e+05   7.196240e+05   \n",
       "mean           9.054280e-17  1.815793e-16       1.058472e-17   8.199208e-17   \n",
       "std            1.000001e+00  1.000001e+00       1.000001e+00   1.000001e+00   \n",
       "min           -1.273054e+00 -1.033466e+00      -1.517013e+00  -1.132401e+00   \n",
       "25%           -5.810625e-01 -1.033466e+00      -7.824631e-01  -1.132401e+00   \n",
       "50%            1.109295e-01  9.676179e-01      -4.791357e-02  -4.540607e-01   \n",
       "75%            8.029214e-01  9.676179e-01       6.866360e-01   9.026193e-01   \n",
       "max            2.392395e+01  9.676179e-01       1.421186e+00   1.580959e+00   \n",
       "\n",
       "       FINANZ_VORSORGER  FINANZ_ANLEGER  FINANZ_UNAUFFAELLIGER  \\\n",
       "count      7.196240e+05    7.196240e+05           7.196240e+05   \n",
       "mean      -7.022250e-17   -7.654174e-17           2.488199e-18   \n",
       "std        1.000001e+00    1.000001e+00           1.000001e+00   \n",
       "min       -1.772031e+00   -1.230290e+00          -1.135889e+00   \n",
       "25%       -1.051251e+00   -1.230290e+00          -1.135889e+00   \n",
       "50%        3.903078e-01    1.422345e-01          -4.088142e-01   \n",
       "75%        1.111087e+00    8.284969e-01           1.045335e+00   \n",
       "max        1.111087e+00    1.514759e+00           1.772409e+00   \n",
       "\n",
       "       FINANZ_HAUSBAUER  GREEN_AVANTGARDE    HEALTH_TYP  \\\n",
       "count     719624.000000      7.196240e+05  7.196240e+05   \n",
       "mean           0.000000      3.217873e-17 -6.501901e-17   \n",
       "std            1.000001      1.000001e+00  1.000001e+00   \n",
       "min           -1.571660     -5.390898e-01 -5.130795e-01   \n",
       "25%           -0.845814     -5.390898e-01 -2.055229e-01   \n",
       "50%           -0.119969     -5.390898e-01 -2.055229e-01   \n",
       "75%            0.605876     -5.390898e-01  1.020338e-01   \n",
       "max            1.331721      1.854978e+00  1.121152e+01   \n",
       "\n",
       "                        ...                    Wealth_Comfortable Households  \\\n",
       "count                   ...                                     7.196240e+05   \n",
       "mean                    ...                                    -7.956066e-17   \n",
       "std                     ...                                     1.000001e+00   \n",
       "min                     ...                                    -3.016165e-01   \n",
       "25%                     ...                                    -3.016165e-01   \n",
       "50%                     ...                                    -3.016165e-01   \n",
       "75%                     ...                                    -3.016165e-01   \n",
       "max                     ...                                     3.315469e+00   \n",
       "\n",
       "       Wealth_Less Affluent Households  Wealth_Poorer Households  \\\n",
       "count                     7.196240e+05              7.196240e+05   \n",
       "mean                     -9.873805e-20              8.736343e-17   \n",
       "std                       1.000001e+00              1.000001e+00   \n",
       "min                      -5.664937e-01             -6.379415e-01   \n",
       "25%                      -5.664937e-01             -6.379415e-01   \n",
       "50%                      -5.664937e-01             -6.379415e-01   \n",
       "75%                      -5.664937e-01              1.567542e+00   \n",
       "max                       1.765245e+00              1.567542e+00   \n",
       "\n",
       "       Wealth_Prosperous Households  Wealth_Wealthy Households  \\\n",
       "count                  7.196240e+05               7.196240e+05   \n",
       "mean                  -7.942489e-17              -1.093030e-17   \n",
       "std                    1.000001e+00               1.000001e+00   \n",
       "min                   -5.481833e-01              -4.185936e-01   \n",
       "25%                   -5.481833e-01              -4.185936e-01   \n",
       "50%                   -5.481833e-01              -4.185936e-01   \n",
       "75%                   -5.481833e-01              -4.185936e-01   \n",
       "max                    1.824207e+00               2.388952e+00   \n",
       "\n",
       "       Life_Stage_Elders In Retirement  \\\n",
       "count                     7.196240e+05   \n",
       "mean                     -5.689287e-17   \n",
       "std                       1.000001e+00   \n",
       "min                      -4.200918e-01   \n",
       "25%                      -4.200918e-01   \n",
       "50%                      -4.200918e-01   \n",
       "75%                      -4.200918e-01   \n",
       "max                       2.380432e+00   \n",
       "\n",
       "       Life_Stage_Families With School Age Children  \\\n",
       "count                                  7.196240e+05   \n",
       "mean                                   9.917250e-17   \n",
       "std                                    1.000001e+00   \n",
       "min                                   -4.095275e-01   \n",
       "25%                                   -4.095275e-01   \n",
       "50%                                   -4.095275e-01   \n",
       "75%                                   -4.095275e-01   \n",
       "max                                    2.441839e+00   \n",
       "\n",
       "       Life_Stage_Older Families &  Mature Couples  \\\n",
       "count                                 7.196240e+05   \n",
       "mean                                 -1.767411e-18   \n",
       "std                                   1.000001e+00   \n",
       "min                                  -6.454494e-01   \n",
       "25%                                  -6.454494e-01   \n",
       "50%                                  -6.454494e-01   \n",
       "75%                                   1.549308e+00   \n",
       "max                                   1.549308e+00   \n",
       "\n",
       "       Life_Stage_Pre-Family Couples & Singles  \\\n",
       "count                             7.196240e+05   \n",
       "mean                             -1.722979e-17   \n",
       "std                               1.000001e+00   \n",
       "min                              -6.739720e-01   \n",
       "25%                              -6.739720e-01   \n",
       "50%                              -6.739720e-01   \n",
       "75%                               1.483741e+00   \n",
       "max                               1.483741e+00   \n",
       "\n",
       "       Life_Stage_Young Couples With Children  \n",
       "count                            7.196240e+05  \n",
       "mean                            -2.920672e-17  \n",
       "std                              1.000001e+00  \n",
       "min                             -3.252751e-01  \n",
       "25%                             -3.252751e-01  \n",
       "50%                             -3.252751e-01  \n",
       "75%                             -3.252751e-01  \n",
       "max                              3.074321e+00  \n",
       "\n",
       "[8 rows x 117 columns]"
      ]
     },
     "execution_count": 45,
     "metadata": {},
     "output_type": "execute_result"
    }
   ],
   "source": [
    "df.describe()"
   ]
  },
  {
   "cell_type": "markdown",
   "metadata": {},
   "source": [
    "### Discussion 2.1: Apply Feature Scaling\n",
    "\n",
    "(Double-click this cell and replace this text with your own text, reporting your decisions regarding feature scaling.)"
   ]
  },
  {
   "cell_type": "markdown",
   "metadata": {},
   "source": [
    "We used Imputer to fill 'NAN' with a mean value in each column and used standardscalar to scale the original columns to a mean of 0 and a standard derivative of 1."
   ]
  },
  {
   "cell_type": "markdown",
   "metadata": {},
   "source": [
    "### Step 2.2: Perform Dimensionality Reduction\n",
    "\n",
    "On your scaled data, you are now ready to apply dimensionality reduction techniques.\n",
    "\n",
    "- Use sklearn's [PCA](http://scikit-learn.org/stable/modules/generated/sklearn.decomposition.PCA.html) class to apply principal component analysis on the data, thus finding the vectors of maximal variance in the data. To start, you should not set any parameters (so all components are computed) or set a number of components that is at least half the number of features (so there's enough features to see the general trend in variability).\n",
    "- Check out the ratio of variance explained by each principal component as well as the cumulative variance explained. Try plotting the cumulative or sequential values using matplotlib's [`plot()`](https://matplotlib.org/api/_as_gen/matplotlib.pyplot.plot.html) function. Based on what you find, select a value for the number of transformed features you'll retain for the clustering part of the project.\n",
    "- Once you've made a choice for the number of components to keep, make sure you re-fit a PCA instance to perform the decided-on transformation."
   ]
  },
  {
   "cell_type": "code",
   "execution_count": 46,
   "metadata": {},
   "outputs": [],
   "source": [
    "# Apply PCA to the data.\n",
    "from sklearn.decomposition import PCA\n",
    "pca = PCA()\n",
    "df_pca = pca.fit_transform(df)\n"
   ]
  },
  {
   "cell_type": "code",
   "execution_count": 47,
   "metadata": {},
   "outputs": [
    {
     "data": {
      "image/png": "[encoded data removed]",
      "text/plain": [
       "<matplotlib.figure.Figure at 0x7f71ae55c898>"
      ]
     },
     "metadata": {
      "needs_background": "light"
     },
     "output_type": "display_data"
    }
   ],
   "source": [
    "# Investigate the variance accounted for by each principal component.\n",
    "def pca_plot(pca):\n",
    "    num_components = len(pca.explained_variance_ratio_)\n",
    "    ind = np.arange(num_components)\n",
    "    vals = pca.explained_variance_ratio_\n",
    " \n",
    "    plt.figure(figsize=(15, 10))\n",
    "    ax = plt.subplot(111)\n",
    "    cumvals = np.cumsum(vals)\n",
    "    ax.bar(ind, vals)\n",
    "    ax.plot(ind, cumvals)\n",
    "    ax.set_xlabel(\"Principal Component\")\n",
    "    ax.set_ylabel(\"Variance Explained\")\n",
    "    plt.title('Explained Variance Per Principal Component')\n",
    "\n",
    "\n",
    "pca_plot(pca)\n"
   ]
  },
  {
   "cell_type": "code",
   "execution_count": 48,
   "metadata": {},
   "outputs": [
    {
     "data": {
      "image/png": "[encoded data removed]",
      "text/plain": [
       "<matplotlib.figure.Figure at 0x7f71ae70b630>"
      ]
     },
     "metadata": {
      "needs_background": "light"
     },
     "output_type": "display_data"
    }
   ],
   "source": [
    "# Re-apply PCA to the data while selecting for number of components to retain.\n",
    "pca = PCA(75)\n",
    "df_pca = pca.fit_transform(df)\n",
    "pca_plot(pca)\n"
   ]
  },
  {
   "cell_type": "markdown",
   "metadata": {},
   "source": [
    "### Discussion 2.2: Perform Dimensionality Reduction\n",
    "\n",
    "(Double-click this cell and replace this text with your own text, reporting your findings and decisions regarding dimensionality reduction. How many principal components / transformed features are you retaining for the next step of the analysis?)"
   ]
  },
  {
   "cell_type": "markdown",
   "metadata": {},
   "source": [
    "There is a small variance drop around 75 in the first plot. Right now it should be good enough to move to the next step."
   ]
  },
  {
   "cell_type": "markdown",
   "metadata": {},
   "source": [
    "### Step 2.3: Interpret Principal Components\n",
    "\n",
    "Now that we have our transformed principal components, it's a nice idea to check out the weight of each variable on the first few components to see if they can be interpreted in some fashion.\n",
    "\n",
    "As a reminder, each principal component is a unit vector that points in the direction of highest variance (after accounting for the variance captured by earlier principal components). The further a weight is from zero, the more the principal component is in the direction of the corresponding feature. If two features have large weights of the same sign (both positive or both negative), then increases in one tend expect to be associated with increases in the other. To contrast, features with different signs can be expected to show a negative correlation: increases in one variable should result in a decrease in the other.\n",
    "\n",
    "- To investigate the features, you should map each weight to their corresponding feature name, then sort the features according to weight. The most interesting features for each principal component, then, will be those at the beginning and end of the sorted list. Use the data dictionary document to help you understand these most prominent features, their relationships, and what a positive or negative value on the principal component might indicate.\n",
    "- You should investigate and interpret feature associations from the first three principal components in this substep. To help facilitate this, you should write a function that you can call at any time to print the sorted list of feature weights, for the *i*-th principal component. This might come in handy in the next step of the project, when you interpret the tendencies of the discovered clusters."
   ]
  },
  {
   "cell_type": "code",
   "execution_count": 49,
   "metadata": {},
   "outputs": [
    {
     "name": "stdout",
     "output_type": "stream",
     "text": [
      "                                             Weights\n",
      "LP_STATUS_GROB_1.0                            0.2019\n",
      "HH_EINKOMMEN_SCORE                            0.1903\n",
      "PLZ8_ANTG3                                    0.1827\n",
      "PLZ8_ANTG4                                    0.1774\n",
      "FINANZ_SPARER                                 0.1647\n",
      "Wealth_Poorer Households                      0.1462\n",
      "FINANZTYP_1                                   0.1434\n",
      "FINANZ_HAUSBAUER                              0.1411\n",
      "Life_Stage_Pre-Family Couples & Singles       0.1404\n",
      "EWDICHTE                                      0.1382\n",
      "ORTSGR_KLS9                                   0.1358\n",
      "KBA05_ANTG4                                   0.1280\n",
      "SEMIO_PFLICHT                                 0.1258\n",
      "PLZ8_ANTG2                                    0.1229\n",
      "SEMIO_REL                                     0.1209\n",
      "KBA05_ANTG3                                   0.1206\n",
      "Decade_90s                                    0.1184\n",
      "Movement_MainStream                           0.1173\n",
      "ANZ_HAUSHALTE_AKTIV                           0.1135\n",
      "SEMIO_TRADV                                   0.1090\n",
      "SEMIO_RAT                                     0.1086\n",
      "ZABEOTYP_5                                    0.1045\n",
      "FINANZ_UNAUFFAELLIGER                         0.0981\n",
      "FINANZ_ANLEGER                                0.0953\n",
      "SEMIO_MAT                                     0.0880\n",
      "SEMIO_FAM                                     0.0790\n",
      "SEMIO_KULT                                    0.0772\n",
      "RELAT_AB                                      0.0760\n",
      "LP_FAMILIE_GROB_1.0                           0.0749\n",
      "ARBEIT                                        0.0709\n",
      "...                                              ...\n",
      "LP_FAMILIE_GROB_5.0                          -0.0609\n",
      "KBA13_ANZAHL_PKW                             -0.0616\n",
      "Life_Stage_Older Families &  Mature Couples  -0.0638\n",
      "CJT_GESAMTTYP_2.0                            -0.0664\n",
      "Decade_60s                                   -0.0693\n",
      "WOHNDAUER_2008                               -0.0697\n",
      "ANZ_PERSONEN                                 -0.0774\n",
      "NATIONALITAET_KZ_1.0                         -0.0780\n",
      "SEMIO_ERL                                    -0.0890\n",
      "BALLRAUM                                     -0.0916\n",
      "ZABEOTYP_1                                   -0.0943\n",
      "GEBAEUDETYP_RASTER                           -0.0947\n",
      "SEMIO_LUST                                   -0.0948\n",
      "ALTERSKATEGORIE_GROB                         -0.0980\n",
      "FINANZTYP_2                                  -0.1003\n",
      "Wealth_Prosperous Households                 -0.1005\n",
      "Wealth_Wealthy Households                    -0.1031\n",
      "LP_STATUS_GROB_4.0                           -0.1091\n",
      "Movement_Avantgarde                          -0.1197\n",
      "GREEN_AVANTGARDE                             -0.1197\n",
      "INNENSTADT                                   -0.1221\n",
      "LP_STATUS_GROB_5.0                           -0.1296\n",
      "FINANZ_VORSORGER                             -0.1335\n",
      "KONSUMNAEHE                                  -0.1336\n",
      "PLZ8_GBZ                                     -0.1359\n",
      "PLZ8_ANTG1                                   -0.1847\n",
      "KBA05_GBZ                                    -0.1854\n",
      "KBA05_ANTG1                                  -0.1969\n",
      "MOBI_REGIO                                   -0.2090\n",
      "FINANZ_MINIMALIST                            -0.2206\n",
      "\n",
      "[117 rows x 1 columns]\n"
     ]
    }
   ],
   "source": [
    "# Map weights for the first principal component to corresponding feature names\n",
    "# and then print the linked values, sorted by weight.\n",
    "# HINT: Try defining a function here or in a new cell that you can reuse in the\n",
    "# other cells.\n",
    "\n",
    "\n",
    "def print_weights(n):\n",
    "    '''\n",
    "    n: number of principal component\n",
    "    '''\n",
    "    components = pd.DataFrame(np.round(pca.components_[n - 1: n], 4), columns = df.keys())\n",
    "    components.index = ['Weights']\n",
    "    components = components.sort_values(by = 'Weights', axis = 1, ascending=False)\n",
    "    components = components.T\n",
    "    print(components)\n",
    "    return components\n",
    "components_1 = print_weights(1)"
   ]
  },
  {
   "cell_type": "code",
   "execution_count": 50,
   "metadata": {},
   "outputs": [
    {
     "name": "stdout",
     "output_type": "stream",
     "text": [
      "                              Weights\n",
      "SEMIO_REL                      0.2129\n",
      "FINANZ_UNAUFFAELLIGER          0.2067\n",
      "FINANZ_SPARER                  0.2005\n",
      "SEMIO_TRADV                    0.1982\n",
      "SEMIO_PFLICHT                  0.1927\n",
      "Decade_90s                     0.1846\n",
      "SEMIO_KULT                     0.1801\n",
      "FINANZ_ANLEGER                 0.1797\n",
      "ONLINE_AFFINITAET              0.1719\n",
      "SEMIO_FAM                      0.1442\n",
      "SEMIO_RAT                      0.1411\n",
      "SEMIO_MAT                      0.1253\n",
      "MOBI_REGIO                     0.1191\n",
      "KBA05_GBZ                      0.1137\n",
      "PLZ8_ANTG1                     0.1122\n",
      "KBA05_ANTG1                    0.1095\n",
      "FINANZTYP_1                    0.1027\n",
      "FINANZTYP_4                    0.0956\n",
      "ZABEOTYP_1                     0.0954\n",
      "ZABEOTYP_4                     0.0942\n",
      "FINANZTYP_3                    0.0893\n",
      "PLZ8_GBZ                       0.0873\n",
      "SEMIO_SOZ                      0.0810\n",
      "KONSUMNAEHE                    0.0802\n",
      "ANZ_PERSONEN                   0.0783\n",
      "INNENSTADT                     0.0773\n",
      "ZABEOTYP_5                     0.0765\n",
      "SHOPPER_TYP_0.0                0.0688\n",
      "LP_FAMILIE_GROB_4.0            0.0648\n",
      "Wealth_Prosperous Households   0.0645\n",
      "...                               ...\n",
      "Decade_70s                    -0.0636\n",
      "FINANZTYP_6                   -0.0648\n",
      "CJT_GESAMTTYP_1.0             -0.0660\n",
      "LP_FAMILIE_GROB_1.0           -0.0678\n",
      "LP_STATUS_GROB_1.0            -0.0703\n",
      "FINANZTYP_2                   -0.0709\n",
      "ANREDE_KZ                     -0.0724\n",
      "PLZ8_ANTG2                    -0.0743\n",
      "ANZ_HAUSHALTE_AKTIV           -0.0747\n",
      "SHOPPER_TYP_3.0               -0.0763\n",
      "Wealth_Poorer Households      -0.0815\n",
      "KBA05_ANTG4                   -0.0851\n",
      "HH_EINKOMMEN_SCORE            -0.0865\n",
      "FINANZTYP_5                   -0.0875\n",
      "ORTSGR_KLS9                   -0.0876\n",
      "EWDICHTE                      -0.0907\n",
      "SEMIO_KAEM                    -0.0931\n",
      "Decade_50s                    -0.0959\n",
      "CJT_GESAMTTYP_2.0             -0.0995\n",
      "Decade_60s                    -0.1027\n",
      "SEMIO_KRIT                    -0.1029\n",
      "PLZ8_ANTG4                    -0.1077\n",
      "PLZ8_ANTG3                    -0.1119\n",
      "FINANZ_HAUSBAUER              -0.1319\n",
      "SEMIO_LUST                    -0.1479\n",
      "RETOURTYP_BK_S                -0.1543\n",
      "ALTERSKATEGORIE_GROB          -0.1588\n",
      "SEMIO_ERL                     -0.1907\n",
      "FINANZ_VORSORGER              -0.1999\n",
      "ZABEOTYP_3                    -0.2077\n",
      "\n",
      "[117 rows x 1 columns]\n"
     ]
    }
   ],
   "source": [
    "# Map weights for the second principal component to corresponding feature names\n",
    "# and then print the linked values, sorted by weight.\n",
    "components_2 = print_weights(2)\n"
   ]
  },
  {
   "cell_type": "code",
   "execution_count": 51,
   "metadata": {},
   "outputs": [
    {
     "name": "stdout",
     "output_type": "stream",
     "text": [
      "                                         Weights\n",
      "SEMIO_VERT                                0.3238\n",
      "SEMIO_SOZ                                 0.2561\n",
      "SEMIO_FAM                                 0.2516\n",
      "SEMIO_KULT                                0.2349\n",
      "FINANZTYP_5                               0.1460\n",
      "FINANZ_MINIMALIST                         0.1313\n",
      "SHOPPER_TYP_0.0                           0.1202\n",
      "RETOURTYP_BK_S                            0.1040\n",
      "ZABEOTYP_1                                0.1007\n",
      "SEMIO_REL                                 0.0977\n",
      "FINANZ_VORSORGER                          0.0740\n",
      "SEMIO_MAT                                 0.0734\n",
      "PLZ8_ANTG3                                0.0656\n",
      "ORTSGR_KLS9                               0.0655\n",
      "EWDICHTE                                  0.0651\n",
      "PLZ8_ANTG4                                0.0651\n",
      "GREEN_AVANTGARDE                          0.0606\n",
      "Movement_Avantgarde                       0.0606\n",
      "ZABEOTYP_6                                0.0588\n",
      "SEMIO_LUST                                0.0463\n",
      "PLZ8_ANTG2                                0.0456\n",
      "Decade_60s                                0.0431\n",
      "SHOPPER_TYP_1.0                           0.0409\n",
      "LP_STATUS_GROB_5.0                        0.0401\n",
      "Decade_50s                                0.0395\n",
      "Life_Stage_Pre-Family Couples & Singles   0.0395\n",
      "KBA05_ANTG4                               0.0382\n",
      "Wealth_Poorer Households                  0.0365\n",
      "ALTERSKATEGORIE_GROB                      0.0341\n",
      "ANZ_HAUSHALTE_AKTIV                       0.0339\n",
      "...                                          ...\n",
      "Wealth_Prosperous Households             -0.0397\n",
      "FINANZ_HAUSBAUER                         -0.0403\n",
      "SHOPPER_TYP_3.0                          -0.0406\n",
      "ZABEOTYP_5                               -0.0415\n",
      "KBA05_GBZ                                -0.0418\n",
      "GEBAEUDETYP_RASTER                       -0.0436\n",
      "ONLINE_AFFINITAET                        -0.0461\n",
      "MOBI_REGIO                               -0.0468\n",
      "SEMIO_PFLICHT                            -0.0473\n",
      "PLZ8_GBZ                                 -0.0498\n",
      "SEMIO_TRADV                              -0.0499\n",
      "LP_FAMILIE_GROB_3.0                      -0.0506\n",
      "BALLRAUM                                 -0.0518\n",
      "KONSUMNAEHE                              -0.0566\n",
      "Movement_MainStream                      -0.0613\n",
      "INNENSTADT                               -0.0619\n",
      "PLZ8_ANTG1                               -0.0643\n",
      "ZABEOTYP_4                               -0.0706\n",
      "Decade_90s                               -0.0729\n",
      "FINANZ_UNAUFFAELLIGER                    -0.0730\n",
      "FINANZ_SPARER                            -0.0772\n",
      "SHOPPER_TYP_2.0                          -0.1002\n",
      "FINANZTYP_1                              -0.1114\n",
      "FINANZ_ANLEGER                           -0.1697\n",
      "SEMIO_RAT                                -0.1777\n",
      "SEMIO_ERL                                -0.1853\n",
      "SEMIO_KRIT                               -0.2589\n",
      "SEMIO_DOM                                -0.2886\n",
      "SEMIO_KAEM                               -0.3158\n",
      "ANREDE_KZ                                -0.3470\n",
      "\n",
      "[117 rows x 1 columns]\n"
     ]
    }
   ],
   "source": [
    "# Map weights for the third principal component to corresponding feature names\n",
    "# and then print the linked values, sorted by weight.\n",
    "components_3 = print_weights(3)\n"
   ]
  },
  {
   "cell_type": "markdown",
   "metadata": {},
   "source": [
    "### Discussion 2.3: Interpret Principal Components\n",
    "\n",
    "(Double-click this cell and replace this text with your own text, reporting your observations from detailed investigation of the first few principal components generated. Can we interpret positive and negative values from them in a meaningful way?)"
   ]
  },
  {
   "cell_type": "markdown",
   "metadata": {},
   "source": [
    "The most weighted features are\n",
    "\n",
    "First:LP_STATUS_GROB_1.0: 0.2019 and FINANZ_MINIMALIST: -0.2206\n",
    "\n",
    "`LP_STATUS_GROB_1.0`: low-income earners\n",
    "`FINANZ_MINIMALIST`: Financial typology\n",
    "\n",
    "Second: SEMIO_REL: 0.2129 and ZABEOTYP_3: -0.2077\n",
    "\n",
    "`SEMIO_REL`: Personality typology\n",
    "`ZABEOTYP_3`: Energy consumption typology\n",
    "\n",
    "Third: SEMIO_VERT: 0.3238 and ANREDE_KZ: -0.3470\n",
    "\n",
    "`SEMIO_VERT`: Personality typology\n",
    "`ANREDE_KZ.0`: Gender\n",
    "\n",
    "The influence of 'financial typology' is the most obvious. For the first principal compnent, these two features have high negative correlation. As 'LP_STATUS_GROB_1.0' represents low-income earners.\n",
    "\n",
    "For the second principal component, one is personality related another is energy consumption.\n",
    "\n",
    "In the third principal component, one is personality as well and another one is gender which has some connection as well.\n",
    "\n",
    "We found that the first principal component is the same while the second one is also heavy related and the third one is house/building related and they are highly negatively correlated. financial related."
   ]
  },
  {
   "cell_type": "markdown",
   "metadata": {},
   "source": [
    "## Step 3: Clustering\n",
    "\n",
    "### Step 3.1: Apply Clustering to General Population\n",
    "\n",
    "You've assessed and cleaned the demographics data, then scaled and transformed them. Now, it's time to see how the data clusters in the principal components space. In this substep, you will apply k-means clustering to the dataset and use the average within-cluster distances from each point to their assigned cluster's centroid to decide on a number of clusters to keep.\n",
    "\n",
    "- Use sklearn's [KMeans](http://scikit-learn.org/stable/modules/generated/sklearn.cluster.KMeans.html#sklearn.cluster.KMeans) class to perform k-means clustering on the PCA-transformed data.\n",
    "- Then, compute the average difference from each point to its assigned cluster's center. **Hint**: The KMeans object's `.score()` method might be useful here, but note that in sklearn, scores tend to be defined so that larger is better. Try applying it to a small, toy dataset, or use an internet search to help your understanding.\n",
    "- Perform the above two steps for a number of different cluster counts. You can then see how the average distance decreases with an increasing number of clusters. However, each additional cluster provides a smaller net benefit. Use this fact to select a final number of clusters in which to group the data. **Warning**: because of the large size of the dataset, it can take a long time for the algorithm to resolve. The more clusters to fit, the longer the algorithm will take. You should test for cluster counts through at least 10 clusters to get the full picture, but you shouldn't need to test for a number of clusters above about 30.\n",
    "- Once you've selected a final number of clusters to use, re-fit a KMeans instance to perform the clustering operation. Make sure that you also obtain the cluster assignments for the general demographics data, since you'll be using them in the final Step 3.3."
   ]
  },
  {
   "cell_type": "code",
   "execution_count": 52,
   "metadata": {},
   "outputs": [],
   "source": [
    "# Over a number of different cluster counts...\n",
    "\n",
    "\n",
    "    # run k-means clustering on the data and...\n",
    "    \n",
    "    \n",
    "    # compute the average within-cluster distances.\n",
    "    \n",
    "    "
   ]
  },
  {
   "cell_type": "code",
   "execution_count": 53,
   "metadata": {},
   "outputs": [],
   "source": [
    "from sklearn.cluster import KMeans\n",
    "\n",
    "def score(data, k):\n",
    "    kmeans_k = KMeans(k)\n",
    "    model_k = kmeans_k.fit(data)\n",
    "    return abs(model_k.score(data))\n"
   ]
  },
  {
   "cell_type": "code",
   "execution_count": 55,
   "metadata": {},
   "outputs": [
    {
     "name": "stdout",
     "output_type": "stream",
     "text": [
      "1\n",
      "2\n",
      "3\n",
      "4\n",
      "5\n",
      "6\n",
      "7\n",
      "8\n",
      "9\n",
      "10\n",
      "11\n",
      "12\n",
      "13\n",
      "14\n",
      "15\n"
     ]
    }
   ],
   "source": [
    "scores = []\n",
    "\n",
    "for i in range(1, 16):\n",
    "    print(i)\n",
    "    scores.append(score(df_pca, i))"
   ]
  },
  {
   "cell_type": "code",
   "execution_count": 56,
   "metadata": {},
   "outputs": [
    {
     "data": {
      "text/plain": [
       "[<matplotlib.lines.Line2D at 0x7f719b09b5f8>]"
      ]
     },
     "execution_count": 56,
     "metadata": {},
     "output_type": "execute_result"
    },
    {
     "data": {
      "image/png": "[encoded data removed]",
      "text/plain": [
       "<matplotlib.figure.Figure at 0x7f71ae758470>"
      ]
     },
     "metadata": {
      "needs_background": "light"
     },
     "output_type": "display_data"
    }
   ],
   "source": [
    "# Investigate the change in within-cluster distance across number of clusters.\n",
    "# HINT: Use matplotlib's plot function to visualize this relationship.\n",
    "centers = np.linspace(1,15,15)\n",
    "plt.plot(centers, scores, linestyle='-', marker='*', color='blue')"
   ]
  },
  {
   "cell_type": "code",
   "execution_count": 84,
   "metadata": {},
   "outputs": [],
   "source": [
    "# Re-fit the k-means model with the selected number of clusters and obtain\n",
    "# cluster predictions for the general population demographics data.\n",
    "\n",
    "kmeans_k = KMeans(13)\n",
    "model_kmeans = kmeans_k.fit(df_pca)\n",
    "prediction_azdias = model_kmeans.predict(df_pca)"
   ]
  },
  {
   "cell_type": "markdown",
   "metadata": {},
   "source": [
    "### Discussion 3.1: Apply Clustering to General Population\n",
    "\n",
    "(Double-click this cell and replace this text with your own text, reporting your findings and decisions regarding clustering. Into how many clusters have you decided to segment the population?)"
   ]
  },
  {
   "cell_type": "markdown",
   "metadata": {},
   "source": [
    "Plotting the KMeans result from 1 to 30 shows there is a small increase in KMeans(18), so we should keep the cluster number to be 17."
   ]
  },
  {
   "cell_type": "markdown",
   "metadata": {},
   "source": [
    "### Step 3.2: Apply All Steps to the Customer Data\n",
    "\n",
    "Now that you have clusters and cluster centers for the general population, it's time to see how the customer data maps on to those clusters. Take care to not confuse this for re-fitting all of the models to the customer data. Instead, you're going to use the fits from the general population to clean, transform, and cluster the customer data. In the last step of the project, you will interpret how the general population fits apply to the customer data.\n",
    "\n",
    "- Don't forget when loading in the customers data, that it is semicolon (`;`) delimited.\n",
    "- Apply the same feature wrangling, selection, and engineering steps to the customer demographics using the `clean_data()` function you created earlier. (You can assume that the customer demographics data has similar meaning behind missing data patterns as the general demographics data.)\n",
    "- Use the sklearn objects from the general demographics data, and apply their transformations to the customers data. That is, you should not be using a `.fit()` or `.fit_transform()` method to re-fit the old objects, nor should you be creating new sklearn objects! Carry the data through the feature scaling, PCA, and clustering steps, obtaining cluster assignments for all of the data in the customer demographics data."
   ]
  },
  {
   "cell_type": "code",
   "execution_count": 58,
   "metadata": {},
   "outputs": [],
   "source": [
    "# Load in the customer demographics data.\n",
    "customers = pd.read_csv('Udacity_CUSTOMERS_Subset.csv', sep = ';')"
   ]
  },
  {
   "cell_type": "code",
   "execution_count": 59,
   "metadata": {},
   "outputs": [
    {
     "data": {
      "image/png": "[encoded data removed]",
      "text/plain": [
       "<matplotlib.figure.Figure at 0x7f719afc3780>"
      ]
     },
     "metadata": {
      "needs_background": "light"
     },
     "output_type": "display_data"
    }
   ],
   "source": [
    "plt.figure(figsize=(15,5))\n",
    "plt.title('Distribution of the Number of Missing Data in Each Row')\n",
    "plt.hist(customers.isnull().sum(axis = 1), bins = np.linspace(0,60,60))\n",
    "plt.xlabel('Number of Missing Data')\n",
    "plt.ylabel('Count')\n",
    "plt.show()"
   ]
  },
  {
   "cell_type": "code",
   "execution_count": 85,
   "metadata": {},
   "outputs": [],
   "source": [
    "# Apply preprocessing, feature transformation, and clustering from the general\n",
    "# demographics onto the customer data, obtaining cluster predictions for the\n",
    "# customer demographics data.\n",
    "customers = clean_data(customers)\n",
    "customers[customers.columns] = scale.transform(imp.transform(customers))\n",
    "customers_pca = pca.transform(customers)\n",
    "prediction_customers = model_k.predict(customers_pca)\n"
   ]
  },
  {
   "cell_type": "code",
   "execution_count": null,
   "metadata": {},
   "outputs": [],
   "source": []
  },
  {
   "cell_type": "markdown",
   "metadata": {},
   "source": [
    "### Step 3.3: Compare Customer Data to Demographics Data\n",
    "\n",
    "At this point, you have clustered data based on demographics of the general population of Germany, and seen how the customer data for a mail-order sales company maps onto those demographic clusters. In this final substep, you will compare the two cluster distributions to see where the strongest customer base for the company is.\n",
    "\n",
    "Consider the proportion of persons in each cluster for the general population, and the proportions for the customers. If we think the company's customer base to be universal, then the cluster assignment proportions should be fairly similar between the two. If there are only particular segments of the population that are interested in the company's products, then we should see a mismatch from one to the other. If there is a higher proportion of persons in a cluster for the customer data compared to the general population (e.g. 5% of persons are assigned to a cluster for the general population, but 15% of the customer data is closest to that cluster's centroid) then that suggests the people in that cluster to be a target audience for the company. On the other hand, the proportion of the data in a cluster being larger in the general population than the customer data (e.g. only 2% of customers closest to a population centroid that captures 6% of the data) suggests that group of persons to be outside of the target demographics.\n",
    "\n",
    "Take a look at the following points in this step:\n",
    "\n",
    "- Compute the proportion of data points in each cluster for the general population and the customer data. Visualizations will be useful here: both for the individual dataset proportions, but also to visualize the ratios in cluster representation between groups. Seaborn's [`countplot()`](https://seaborn.pydata.org/generated/seaborn.countplot.html) or [`barplot()`](https://seaborn.pydata.org/generated/seaborn.barplot.html) function could be handy.\n",
    "  - Recall the analysis you performed in step 1.1.3 of the project, where you separated out certain data points from the dataset if they had more than a specified threshold of missing values. If you found that this group was qualitatively different from the main bulk of the data, you should treat this as an additional data cluster in this analysis. Make sure that you account for the number of data points in this subset, for both the general population and customer datasets, when making your computations!\n",
    "- Which cluster or clusters are overrepresented in the customer dataset compared to the general population? Select at least one such cluster and infer what kind of people might be represented by that cluster. Use the principal component interpretations from step 2.3 or look at additional components to help you make this inference. Alternatively, you can use the `.inverse_transform()` method of the PCA and StandardScaler objects to transform centroids back to the original data space and interpret the retrieved values directly.\n",
    "- Perform a similar investigation for the underrepresented clusters. Which cluster or clusters are underrepresented in the customer dataset compared to the general population, and what kinds of people are typified by these clusters?"
   ]
  },
  {
   "cell_type": "code",
   "execution_count": 86,
   "metadata": {},
   "outputs": [],
   "source": [
    "# Compare the proportion of data in each cluster for the customer data to the\n",
    "# proportion of data in each cluster for the general population.\n",
    "import matplotlib.ticker as ticker\n",
    "\n",
    "prediction_azdias_1 = np.append(prediction_azdias, [13] * (len(azdias) - len(prediction_azdias)))\n",
    "\n",
    "prediction_customers_1 = np.append(prediction_customers, [13] * (len(customers) - len(prediction_customers)))\n",
    "\n",
    "def plot_distribution(df, column, height):\n",
    "    ncount = len(df)\n",
    "    plt.figure(figsize=(14,6))\n",
    "    ax = sns.countplot(x = column, data = df)\n",
    "    plt.title('Distribution of a Cluster')\n",
    "    plt.xlabel('Cluster Tag')\n",
    "\n",
    "    ax2=ax.twinx()\n",
    "\n",
    "    ax2.yaxis.tick_left()\n",
    "    ax.yaxis.tick_right()\n",
    "\n",
    "    ax.yaxis.set_label_position('right')\n",
    "    ax2.yaxis.set_label_position('left')\n",
    "\n",
    "    ax2.set_ylabel('Frequency [%]')\n",
    "\n",
    "    for p in ax.patches:\n",
    "        x=p.get_bbox().get_points()[:,0]\n",
    "        y=p.get_bbox().get_points()[1,1]\n",
    "        ax.annotate('{:.1f}%'.format(100.*y/ncount), (x.mean(), y), \n",
    "                ha='center', va='bottom')\n",
    "\n",
    "    ax.yaxis.set_major_locator(ticker.LinearLocator(11))\n",
    "\n",
    "    ratio = 100 / height\n",
    "    ax2.set_ylim(0,100 / ratio)\n",
    "    ax.set_ylim(0,ncount / ratio)\n",
    "\n",
    "    ax2.yaxis.set_major_locator(ticker.MultipleLocator(10))\n",
    "\n",
    "    ax2.grid(None)\n"
   ]
  },
  {
   "cell_type": "code",
   "execution_count": 87,
   "metadata": {},
   "outputs": [],
   "source": [
    "df_prediction_azdias_1 = pd.DataFrame(prediction_azdias_1, columns = ['Cluster'])\n",
    "df_prediction_customers_1 = pd.DataFrame(prediction_customers_1, columns = ['Cluster'])"
   ]
  },
  {
   "cell_type": "code",
   "execution_count": 88,
   "metadata": {},
   "outputs": [
    {
     "data": {
      "image/png": "[encoded data removed]",
      "text/plain": [
       "<matplotlib.figure.Figure at 0x7f719aef14e0>"
      ]
     },
     "metadata": {
      "needs_background": "light"
     },
     "output_type": "display_data"
    }
   ],
   "source": [
    "plot_distribution(df_prediction_azdias_1, 'Cluster', height = 20)"
   ]
  },
  {
   "cell_type": "code",
   "execution_count": 90,
   "metadata": {},
   "outputs": [
    {
     "data": {
      "image/png": "[encoded data removed]",
      "text/plain": [
       "<matplotlib.figure.Figure at 0x7f71a6556438>"
      ]
     },
     "metadata": {
      "needs_background": "light"
     },
     "output_type": "display_data"
    }
   ],
   "source": [
    "plot_distribution(df_prediction_customers_1, 'Cluster', height = 100)"
   ]
  },
  {
   "cell_type": "code",
   "execution_count": 77,
   "metadata": {},
   "outputs": [],
   "source": [
    "def drop_data(df):\n",
    "    \"\"\"\n",
    "    Perform feature trimming, re-encoding, and engineering for demographics\n",
    "    data\n",
    "    \n",
    "    INPUT: Demographics DataFrame\n",
    "    OUTPUT: Trimmed and cleaned demographics DataFrame\n",
    "    \"\"\"\n",
    "    \n",
    "    feat_info = pd.read_csv('AZDIAS_Feature_Summary.csv', sep = ';')\n",
    "    for i, column in enumerate(df.columns):\n",
    "        str_n = feat_info['missing_or_unknown'].iloc[i]\n",
    "        if i in [57, 58, 59]:\n",
    "            list_n = str_n[1: -1].split(',')\n",
    "        else:\n",
    "            list_n = ast.literal_eval(str_n)\n",
    "        for num in list_n:\n",
    "            df[column].replace(num, np.NaN, inplace = True)\n",
    "    \n",
    "    # remove selected columns and rows, ...\n",
    "    drop_columns = ['TITEL_KZ', 'AGER_TYP', 'GEBURTSJAHR', 'ALTER_HH', 'KK_KUNDENTYP', 'KBA05_BAUMAX']\n",
    "    df.drop(drop_columns, axis = 1, inplace = True)\n",
    "    \n",
    "    df['Missing_num'] = df.isnull().sum(axis=1)\n",
    "    df_1 = df[df['Missing_num'] <= 5]\n",
    "    df_1 = df_1.drop('Missing_num', axis = 1)\n",
    "    df_1 = new_feature_PJ(df_1)\n",
    "    df_1 = new_feature_CI2015(df_1)\n",
    "    return df_1"
   ]
  },
  {
   "cell_type": "code",
   "execution_count": 91,
   "metadata": {},
   "outputs": [],
   "source": [
    "azdias = pd.read_csv('Udacity_AZDIAS_Subset.csv', sep=';')\n",
    "customers = pd.read_csv('Udacity_CUSTOMERS_Subset.csv', sep = ';')\n",
    "azdias = drop_data(azdias)\n",
    "customers = drop_data(customers)"
   ]
  },
  {
   "cell_type": "code",
   "execution_count": 92,
   "metadata": {},
   "outputs": [
    {
     "data": {
      "text/html": [
       "<div>\n",
       "<style scoped>\n",
       "    .dataframe tbody tr th:only-of-type {\n",
       "        vertical-align: middle;\n",
       "    }\n",
       "\n",
       "    .dataframe tbody tr th {\n",
       "        vertical-align: top;\n",
       "    }\n",
       "\n",
       "    .dataframe thead th {\n",
       "        text-align: right;\n",
       "    }\n",
       "</style>\n",
       "<table border=\"1\" class=\"dataframe\">\n",
       "  <thead>\n",
       "    <tr style=\"text-align: right;\">\n",
       "      <th></th>\n",
       "      <th>ALTERSKATEGORIE_GROB</th>\n",
       "      <th>ANREDE_KZ</th>\n",
       "      <th>CJT_GESAMTTYP</th>\n",
       "      <th>FINANZ_MINIMALIST</th>\n",
       "      <th>FINANZ_SPARER</th>\n",
       "      <th>FINANZ_VORSORGER</th>\n",
       "      <th>FINANZ_ANLEGER</th>\n",
       "      <th>FINANZ_UNAUFFAELLIGER</th>\n",
       "      <th>FINANZ_HAUSBAUER</th>\n",
       "      <th>FINANZTYP</th>\n",
       "      <th>...</th>\n",
       "      <th>PLZ8_HHZ</th>\n",
       "      <th>PLZ8_GBZ</th>\n",
       "      <th>ARBEIT</th>\n",
       "      <th>ORTSGR_KLS9</th>\n",
       "      <th>RELAT_AB</th>\n",
       "      <th>Decade</th>\n",
       "      <th>Movement</th>\n",
       "      <th>Nation</th>\n",
       "      <th>Wealth</th>\n",
       "      <th>Life_Stage</th>\n",
       "    </tr>\n",
       "  </thead>\n",
       "  <tbody>\n",
       "    <tr>\n",
       "      <th>81</th>\n",
       "      <td>4.0</td>\n",
       "      <td>2</td>\n",
       "      <td>2.0</td>\n",
       "      <td>4</td>\n",
       "      <td>1</td>\n",
       "      <td>5</td>\n",
       "      <td>1</td>\n",
       "      <td>2</td>\n",
       "      <td>5</td>\n",
       "      <td>2</td>\n",
       "      <td>...</td>\n",
       "      <td>4.0</td>\n",
       "      <td>3.0</td>\n",
       "      <td>3.0</td>\n",
       "      <td>6.0</td>\n",
       "      <td>3.0</td>\n",
       "      <td>40s</td>\n",
       "      <td>Avantgarde</td>\n",
       "      <td>E+W</td>\n",
       "      <td>Prosperous Households</td>\n",
       "      <td>Elders In Retirement</td>\n",
       "    </tr>\n",
       "    <tr>\n",
       "      <th>158</th>\n",
       "      <td>3.0</td>\n",
       "      <td>1</td>\n",
       "      <td>4.0</td>\n",
       "      <td>5</td>\n",
       "      <td>1</td>\n",
       "      <td>5</td>\n",
       "      <td>1</td>\n",
       "      <td>1</td>\n",
       "      <td>2</td>\n",
       "      <td>5</td>\n",
       "      <td>...</td>\n",
       "      <td>4.0</td>\n",
       "      <td>4.0</td>\n",
       "      <td>4.0</td>\n",
       "      <td>8.0</td>\n",
       "      <td>5.0</td>\n",
       "      <td>40s</td>\n",
       "      <td>Avantgarde</td>\n",
       "      <td>E+W</td>\n",
       "      <td>Wealthy Households</td>\n",
       "      <td>Elders In Retirement</td>\n",
       "    </tr>\n",
       "    <tr>\n",
       "      <th>403</th>\n",
       "      <td>3.0</td>\n",
       "      <td>1</td>\n",
       "      <td>1.0</td>\n",
       "      <td>5</td>\n",
       "      <td>3</td>\n",
       "      <td>4</td>\n",
       "      <td>2</td>\n",
       "      <td>1</td>\n",
       "      <td>1</td>\n",
       "      <td>6</td>\n",
       "      <td>...</td>\n",
       "      <td>3.0</td>\n",
       "      <td>3.0</td>\n",
       "      <td>4.0</td>\n",
       "      <td>4.0</td>\n",
       "      <td>3.0</td>\n",
       "      <td>80s</td>\n",
       "      <td>Avantgarde</td>\n",
       "      <td>W</td>\n",
       "      <td>Prosperous Households</td>\n",
       "      <td>Elders In Retirement</td>\n",
       "    </tr>\n",
       "  </tbody>\n",
       "</table>\n",
       "<p>3 rows × 84 columns</p>\n",
       "</div>"
      ],
      "text/plain": [
       "     ALTERSKATEGORIE_GROB  ANREDE_KZ  CJT_GESAMTTYP  FINANZ_MINIMALIST  \\\n",
       "81                    4.0          2            2.0                  4   \n",
       "158                   3.0          1            4.0                  5   \n",
       "403                   3.0          1            1.0                  5   \n",
       "\n",
       "     FINANZ_SPARER  FINANZ_VORSORGER  FINANZ_ANLEGER  FINANZ_UNAUFFAELLIGER  \\\n",
       "81               1                 5               1                      2   \n",
       "158              1                 5               1                      1   \n",
       "403              3                 4               2                      1   \n",
       "\n",
       "     FINANZ_HAUSBAUER  FINANZTYP          ...           PLZ8_HHZ  PLZ8_GBZ  \\\n",
       "81                  5          2          ...                4.0       3.0   \n",
       "158                 2          5          ...                4.0       4.0   \n",
       "403                 1          6          ...                3.0       3.0   \n",
       "\n",
       "     ARBEIT  ORTSGR_KLS9  RELAT_AB  Decade    Movement  Nation  \\\n",
       "81      3.0          6.0       3.0     40s  Avantgarde     E+W   \n",
       "158     4.0          8.0       5.0     40s  Avantgarde     E+W   \n",
       "403     4.0          4.0       3.0     80s  Avantgarde       W   \n",
       "\n",
       "                    Wealth            Life_Stage  \n",
       "81   Prosperous Households  Elders In Retirement  \n",
       "158     Wealthy Households  Elders In Retirement  \n",
       "403  Prosperous Households  Elders In Retirement  \n",
       "\n",
       "[3 rows x 84 columns]"
      ]
     },
     "execution_count": 92,
     "metadata": {},
     "output_type": "execute_result"
    }
   ],
   "source": [
    "# What kinds of people are part of a cluster that is overrepresented in the\n",
    "# customer data compared to the general population?\n",
    "target_list = df_prediction_customers_1[df_prediction_customers_1['Cluster'] == 3].index\n",
    "df_target = customers.iloc[target_list]\n",
    "df_target.head(3)"
   ]
  },
  {
   "cell_type": "code",
   "execution_count": 93,
   "metadata": {},
   "outputs": [
    {
     "data": {
      "text/html": [
       "<div>\n",
       "<style scoped>\n",
       "    .dataframe tbody tr th:only-of-type {\n",
       "        vertical-align: middle;\n",
       "    }\n",
       "\n",
       "    .dataframe tbody tr th {\n",
       "        vertical-align: top;\n",
       "    }\n",
       "\n",
       "    .dataframe thead th {\n",
       "        text-align: right;\n",
       "    }\n",
       "</style>\n",
       "<table border=\"1\" class=\"dataframe\">\n",
       "  <thead>\n",
       "    <tr style=\"text-align: right;\">\n",
       "      <th></th>\n",
       "      <th>ALTERSKATEGORIE_GROB</th>\n",
       "      <th>ANREDE_KZ</th>\n",
       "      <th>CJT_GESAMTTYP</th>\n",
       "      <th>FINANZ_MINIMALIST</th>\n",
       "      <th>FINANZ_SPARER</th>\n",
       "      <th>FINANZ_VORSORGER</th>\n",
       "      <th>FINANZ_ANLEGER</th>\n",
       "      <th>FINANZ_UNAUFFAELLIGER</th>\n",
       "      <th>FINANZ_HAUSBAUER</th>\n",
       "      <th>FINANZTYP</th>\n",
       "      <th>...</th>\n",
       "      <th>PLZ8_HHZ</th>\n",
       "      <th>PLZ8_GBZ</th>\n",
       "      <th>ARBEIT</th>\n",
       "      <th>ORTSGR_KLS9</th>\n",
       "      <th>RELAT_AB</th>\n",
       "      <th>Decade</th>\n",
       "      <th>Movement</th>\n",
       "      <th>Nation</th>\n",
       "      <th>Wealth</th>\n",
       "      <th>Life_Stage</th>\n",
       "    </tr>\n",
       "  </thead>\n",
       "  <tbody>\n",
       "    <tr>\n",
       "      <th>33</th>\n",
       "      <td>2.0</td>\n",
       "      <td>2</td>\n",
       "      <td>4.0</td>\n",
       "      <td>2</td>\n",
       "      <td>2</td>\n",
       "      <td>4</td>\n",
       "      <td>1</td>\n",
       "      <td>3</td>\n",
       "      <td>4</td>\n",
       "      <td>5</td>\n",
       "      <td>...</td>\n",
       "      <td>5.0</td>\n",
       "      <td>3.0</td>\n",
       "      <td>3.0</td>\n",
       "      <td>8.0</td>\n",
       "      <td>5.0</td>\n",
       "      <td>70s</td>\n",
       "      <td>MainStream</td>\n",
       "      <td>E+W</td>\n",
       "      <td>Less Affluent Households</td>\n",
       "      <td>Pre-Family Couples &amp; Singles</td>\n",
       "    </tr>\n",
       "    <tr>\n",
       "      <th>36</th>\n",
       "      <td>3.0</td>\n",
       "      <td>2</td>\n",
       "      <td>2.0</td>\n",
       "      <td>2</td>\n",
       "      <td>3</td>\n",
       "      <td>4</td>\n",
       "      <td>3</td>\n",
       "      <td>2</td>\n",
       "      <td>3</td>\n",
       "      <td>6</td>\n",
       "      <td>...</td>\n",
       "      <td>3.0</td>\n",
       "      <td>3.0</td>\n",
       "      <td>4.0</td>\n",
       "      <td>9.0</td>\n",
       "      <td>4.0</td>\n",
       "      <td>70s</td>\n",
       "      <td>MainStream</td>\n",
       "      <td>E+W</td>\n",
       "      <td>Less Affluent Households</td>\n",
       "      <td>Pre-Family Couples &amp; Singles</td>\n",
       "    </tr>\n",
       "    <tr>\n",
       "      <th>55</th>\n",
       "      <td>3.0</td>\n",
       "      <td>2</td>\n",
       "      <td>5.0</td>\n",
       "      <td>2</td>\n",
       "      <td>3</td>\n",
       "      <td>4</td>\n",
       "      <td>2</td>\n",
       "      <td>2</td>\n",
       "      <td>3</td>\n",
       "      <td>1</td>\n",
       "      <td>...</td>\n",
       "      <td>5.0</td>\n",
       "      <td>4.0</td>\n",
       "      <td>3.0</td>\n",
       "      <td>8.0</td>\n",
       "      <td>5.0</td>\n",
       "      <td>70s</td>\n",
       "      <td>MainStream</td>\n",
       "      <td>E+W</td>\n",
       "      <td>Poorer Households</td>\n",
       "      <td>Pre-Family Couples &amp; Singles</td>\n",
       "    </tr>\n",
       "  </tbody>\n",
       "</table>\n",
       "<p>3 rows × 84 columns</p>\n",
       "</div>"
      ],
      "text/plain": [
       "    ALTERSKATEGORIE_GROB  ANREDE_KZ  CJT_GESAMTTYP  FINANZ_MINIMALIST  \\\n",
       "33                   2.0          2            4.0                  2   \n",
       "36                   3.0          2            2.0                  2   \n",
       "55                   3.0          2            5.0                  2   \n",
       "\n",
       "    FINANZ_SPARER  FINANZ_VORSORGER  FINANZ_ANLEGER  FINANZ_UNAUFFAELLIGER  \\\n",
       "33              2                 4               1                      3   \n",
       "36              3                 4               3                      2   \n",
       "55              3                 4               2                      2   \n",
       "\n",
       "    FINANZ_HAUSBAUER  FINANZTYP              ...               PLZ8_HHZ  \\\n",
       "33                 4          5              ...                    5.0   \n",
       "36                 3          6              ...                    3.0   \n",
       "55                 3          1              ...                    5.0   \n",
       "\n",
       "    PLZ8_GBZ  ARBEIT  ORTSGR_KLS9  RELAT_AB  Decade    Movement  Nation  \\\n",
       "33       3.0     3.0          8.0       5.0     70s  MainStream     E+W   \n",
       "36       3.0     4.0          9.0       4.0     70s  MainStream     E+W   \n",
       "55       4.0     3.0          8.0       5.0     70s  MainStream     E+W   \n",
       "\n",
       "                      Wealth                    Life_Stage  \n",
       "33  Less Affluent Households  Pre-Family Couples & Singles  \n",
       "36  Less Affluent Households  Pre-Family Couples & Singles  \n",
       "55         Poorer Households  Pre-Family Couples & Singles  \n",
       "\n",
       "[3 rows x 84 columns]"
      ]
     },
     "execution_count": 93,
     "metadata": {},
     "output_type": "execute_result"
    }
   ],
   "source": [
    "# What kinds of people are part of a cluster that is underrepresented in the\n",
    "# customer data compared to the general population?\n",
    "outside_list = df_prediction_azdias_1[df_prediction_azdias_1['Cluster'] == 0].index\n",
    "df_outside = azdias.iloc[outside_list]\n",
    "df_outside.head(3)\n"
   ]
  },
  {
   "cell_type": "markdown",
   "metadata": {},
   "source": [
    "### Discussion 3.3: Compare Customer Data to Demographics Data\n",
    "\n",
    "(Double-click this cell and replace this text with your own text, reporting findings and conclusions from the clustering analysis. Can we describe segments of the population that are relatively popular with the mail-order company, or relatively unpopular with the company?)"
   ]
  },
  {
   "cell_type": "code",
   "execution_count": 94,
   "metadata": {},
   "outputs": [],
   "source": [
    "def plot_comparison(column):\n",
    "    fig, (ax1, ax2) = plt.subplots(figsize=(12,4), ncols=2)\n",
    "    sns.countplot(x = column, data=df_target, ax=ax1)\n",
    "    ax1.set_xlabel('Value')\n",
    "    ax1.set_title('Distribution of target population')\n",
    "    sns.countplot(x = column, data=df_outside, ax=ax2)\n",
    "    ax2.set_xlabel('Value')\n",
    "    ax2.set_title('Distribution of non-target population')\n",
    "    fig.tight_layout()\n",
    "    plt.show()"
   ]
  },
  {
   "cell_type": "code",
   "execution_count": 95,
   "metadata": {},
   "outputs": [
    {
     "data": {
      "image/png": "[encoded data removed]",
      "text/plain": [
       "<matplotlib.figure.Figure at 0x7f71a65655f8>"
      ]
     },
     "metadata": {
      "needs_background": "light"
     },
     "output_type": "display_data"
    }
   ],
   "source": [
    "plot_comparison('LP_STATUS_GROB')"
   ]
  },
  {
   "cell_type": "code",
   "execution_count": 96,
   "metadata": {},
   "outputs": [
    {
     "data": {
      "image/png": "[encoded data removed]",
      "text/plain": [
       "<matplotlib.figure.Figure at 0x7f71a65654e0>"
      ]
     },
     "metadata": {
      "needs_background": "light"
     },
     "output_type": "display_data"
    }
   ],
   "source": [
    "plot_comparison('FINANZ_MINIMALIST')"
   ]
  },
  {
   "cell_type": "markdown",
   "metadata": {},
   "source": [
    "LP_STATUS_GROB: Social status, rough scale\n",
    "\n",
    "1: low-income earners\n",
    "2: average earners\n",
    "3: independents \n",
    "4: houseowners \n",
    "5: top earners\n",
    "FINANZ_MINIMALIST: Financial typology, MINIMALIST: low financial interest:\n",
    "\n",
    "-1: unknown\n",
    "1: very high\n",
    "2: high\n",
    "3: average\n",
    "4: low\n",
    "5: very low\n",
    "\n",
    "The mail-order company prefers customers to have higher income and low interest rate. The customers we are targeting won't have too much saving in their bank and have plenty of cash to invest or purchase."
   ]
  },
  {
   "cell_type": "code",
   "execution_count": 97,
   "metadata": {},
   "outputs": [
    {
     "data": {
      "image/png": "[encoded data removed]",
      "text/plain": [
       "<matplotlib.figure.Figure at 0x7f71a543d5c0>"
      ]
     },
     "metadata": {
      "needs_background": "light"
     },
     "output_type": "display_data"
    }
   ],
   "source": [
    "plot_comparison('Decade')"
   ]
  },
  {
   "cell_type": "markdown",
   "metadata": {},
   "source": [
    "Decade: This features is achieved by one-hot encoding from the mixed type feature."
   ]
  },
  {
   "cell_type": "code",
   "execution_count": 98,
   "metadata": {},
   "outputs": [
    {
     "data": {
      "image/png": "[encoded data removed]",
      "text/plain": [
       "<matplotlib.figure.Figure at 0x7f71a6565a58>"
      ]
     },
     "metadata": {
      "needs_background": "light"
     },
     "output_type": "display_data"
    }
   ],
   "source": [
    "plot_comparison('HH_EINKOMMEN_SCORE')"
   ]
  },
  {
   "cell_type": "markdown",
   "metadata": {},
   "source": [
    "HH_EINKOMMEN_SCORE: Estimated household net income\n",
    "\n",
    "1: highest income\n",
    "2: very high income\n",
    "3: high income\n",
    "4: average income\n",
    "5: lower income\n",
    "6: very low income\n",
    "This one is another feature which connected to financial property. The company perfers higher income customers than lower income ones.\n"
   ]
  },
  {
   "cell_type": "code",
   "execution_count": 99,
   "metadata": {},
   "outputs": [
    {
     "data": {
      "image/png": "[encoded data removed]",
      "text/plain": [
       "<matplotlib.figure.Figure at 0x7f71a57a5da0>"
      ]
     },
     "metadata": {
      "needs_background": "light"
     },
     "output_type": "display_data"
    }
   ],
   "source": [
    "plot_comparison('SEMIO_PFLICHT')"
   ]
  },
  {
   "cell_type": "markdown",
   "metadata": {},
   "source": [
    "SEMIO_PFLICHT: Personality typology_dutiful\n",
    "\n",
    "1: highest affinity\n",
    "2: very high affinity\n",
    "3: high affinity\n",
    "4: average affinity\n",
    "5: low affinity\n",
    "6: very low affinity\n",
    "7: lowest affinity\n",
    "Person has highest affinity of duriful is a target by the company.\n"
   ]
  },
  {
   "cell_type": "code",
   "execution_count": 100,
   "metadata": {},
   "outputs": [
    {
     "data": {
      "image/png": "[encoded data removed]",
      "text/plain": [
       "<matplotlib.figure.Figure at 0x7f71a4d55f98>"
      ]
     },
     "metadata": {
      "needs_background": "light"
     },
     "output_type": "display_data"
    }
   ],
   "source": [
    "plot_comparison('ANREDE_KZ')"
   ]
  },
  {
   "cell_type": "markdown",
   "metadata": {},
   "source": [
    "ANREDE_KZ: Gender\n",
    "\n",
    "1: male\n",
    "2: female\n",
    "The mail-order company prefers male than female.\n"
   ]
  },
  {
   "cell_type": "markdown",
   "metadata": {},
   "source": [
    "\n",
    "In conclusion, the company should target people who are male, elder, more dutiful, and rich but with less savings in bank."
   ]
  },
  {
   "cell_type": "code",
   "execution_count": null,
   "metadata": {},
   "outputs": [],
   "source": []
  },
  {
   "cell_type": "markdown",
   "metadata": {},
   "source": [
    "> Congratulations on making it this far in the project! Before you finish, make sure to check through the entire notebook from top to bottom to make sure that your analysis follows a logical flow and all of your findings are documented in **Discussion** cells. Once you've checked over all of your work, you should export the notebook as an HTML document to submit for evaluation. You can do this from the menu, navigating to **File -> Download as -> HTML (.html)**. You will submit both that document and this notebook for your project submission."
   ]
  },
  {
   "cell_type": "code",
   "execution_count": null,
   "metadata": {},
   "outputs": [],
   "source": []
  },
  {
   "cell_type": "code",
   "execution_count": null,
   "metadata": {},
   "outputs": [],
   "source": []
  }
 ],
 "metadata": {
  "kernelspec": {
   "display_name": "Python 3",
   "language": "python",
   "name": "python3"
  },
  "language_info": {
   "codemirror_mode": {
    "name": "ipython",
    "version": 3
   },
   "file_extension": ".py",
   "mimetype": "text/x-python",
   "name": "python",
   "nbconvert_exporter": "python",
   "pygments_lexer": "ipython3",
   "version": "3.6.3"
  }
 },
 "nbformat": 4,
 "nbformat_minor": 2
}
